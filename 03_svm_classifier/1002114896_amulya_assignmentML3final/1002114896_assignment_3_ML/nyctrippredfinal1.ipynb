{
  "metadata": {
    "kernelspec": {
      "display_name": "Python 3",
      "language": "python",
      "name": "python3"
    },
    "varInspector": {
      "cols": {
        "lenName": 16,
        "lenType": 16,
        "lenVar": 40
      },
      "kernels_config": {
        "python": {
          "delete_cmd_postfix": "",
          "delete_cmd_prefix": "del ",
          "library": "var_list.py",
          "varRefreshCmd": "print(var_dic_list())"
        },
        "r": {
          "delete_cmd_postfix": ") ",
          "delete_cmd_prefix": "rm(",
          "library": "var_list.r",
          "varRefreshCmd": "cat(var_dic_list()) "
        }
      },
      "types_to_exclude": [
        "module",
        "function",
        "builtin_function_or_method",
        "instance",
        "_Feature"
      ],
      "window_display": false
    },
    "language_info": {
      "name": ""
    },
    "colab": {
      "provenance": []
    }
  },
  "nbformat_minor": 0,
  "nbformat": 4,
  "cells": [
    {
      "cell_type": "markdown",
      "source": [
        "# imports"
      ],
      "metadata": {
        "id": "DcV-eAbze76g"
      }
    },
    {
      "cell_type": "code",
      "source": [
        "import pandas as pd\n",
        "import numpy as np\n",
        "from zipfile import ZipFile\n",
        "import os\n",
        "from datetime import datetime\n",
        "import matplotlib.pyplot as plt\n",
        "import seaborn as sns\n",
        "from geopy import distance\n",
        "import math\n",
        "\n",
        "from sklearn.preprocessing import LabelEncoder, StandardScaler\n",
        "from keras.models import Sequential\n",
        "from keras.layers import Dense, Dropout, Activation\n",
        "from keras.optimizers import Adam, SGD\n",
        "from keras.callbacks import ModelCheckpoint"
      ],
      "metadata": {
        "ExecuteTime": {
          "end_time": "2019-10-14T17:33:52.593679Z",
          "start_time": "2019-10-14T17:33:49.767495Z"
        },
        "trusted": true,
        "id": "GRYXv4eUe76n"
      },
      "execution_count": 1,
      "outputs": []
    },
    {
      "cell_type": "markdown",
      "source": [
        "# Data Load"
      ],
      "metadata": {
        "id": "vKMAOVh6e76q"
      }
    },
    {
      "cell_type": "code",
      "source": [
        "#base_path =  \"./dataset/\"\n",
        "#base_path = \"../input/nyc-taxi-trip-duration/\"#"
      ],
      "metadata": {
        "ExecuteTime": {
          "end_time": "2019-10-14T17:34:01.663321Z",
          "start_time": "2019-10-14T17:34:01.660302Z"
        },
        "trusted": true,
        "id": "J7wLKchle76q"
      },
      "execution_count": 2,
      "outputs": []
    },
    {
      "cell_type": "markdown",
      "source": [
        "# Data Exploration"
      ],
      "metadata": {
        "id": "dRBdM36Be76r"
      }
    },
    {
      "cell_type": "code",
      "source": [
        "data_df = pd.read_csv(\"train.csv\")"
      ],
      "metadata": {
        "ExecuteTime": {
          "end_time": "2019-10-14T18:25:02.819443Z",
          "start_time": "2019-10-14T18:25:02.797501Z"
        },
        "trusted": true,
        "id": "ehGVZFaee76s"
      },
      "execution_count": 3,
      "outputs": []
    },
    {
      "cell_type": "code",
      "source": [
        "data_df.head()"
      ],
      "metadata": {
        "ExecuteTime": {
          "end_time": "2019-10-14T18:25:04.296008Z",
          "start_time": "2019-10-14T18:25:04.28506Z"
        },
        "trusted": true,
        "colab": {
          "base_uri": "https://localhost:8080/",
          "height": 313
        },
        "id": "AZWJR9xze76s",
        "outputId": "6ea5b4db-789b-4a65-d6e8-96f7ad221250"
      },
      "execution_count": 4,
      "outputs": [
        {
          "output_type": "execute_result",
          "data": {
            "text/plain": [
              "          id  vendor_id      pickup_datetime     dropoff_datetime  \\\n",
              "0  id2875421          2  2016-03-14 17:24:55  2016-03-14 17:32:30   \n",
              "1  id2377394          1  2016-06-12 00:43:35  2016-06-12 00:54:38   \n",
              "2  id3858529          2  2016-01-19 11:35:24  2016-01-19 12:10:48   \n",
              "3  id3504673          2  2016-04-06 19:32:31  2016-04-06 19:39:40   \n",
              "4  id2181028          2  2016-03-26 13:30:55  2016-03-26 13:38:10   \n",
              "\n",
              "   passenger_count  pickup_longitude  pickup_latitude  dropoff_longitude  \\\n",
              "0                1        -73.982155        40.767937         -73.964630   \n",
              "1                1        -73.980415        40.738564         -73.999481   \n",
              "2                1        -73.979027        40.763939         -74.005333   \n",
              "3                1        -74.010040        40.719971         -74.012268   \n",
              "4                1        -73.973053        40.793209         -73.972923   \n",
              "\n",
              "   dropoff_latitude store_and_fwd_flag  trip_duration  \n",
              "0         40.765602                  N          455.0  \n",
              "1         40.731152                  N          663.0  \n",
              "2         40.710087                  N         2124.0  \n",
              "3         40.706718                  N          429.0  \n",
              "4         40.782520                  N          435.0  "
            ],
            "text/html": [
              "\n",
              "  <div id=\"df-395ee1de-0413-4033-9807-e660991c6cd5\" class=\"colab-df-container\">\n",
              "    <div>\n",
              "<style scoped>\n",
              "    .dataframe tbody tr th:only-of-type {\n",
              "        vertical-align: middle;\n",
              "    }\n",
              "\n",
              "    .dataframe tbody tr th {\n",
              "        vertical-align: top;\n",
              "    }\n",
              "\n",
              "    .dataframe thead th {\n",
              "        text-align: right;\n",
              "    }\n",
              "</style>\n",
              "<table border=\"1\" class=\"dataframe\">\n",
              "  <thead>\n",
              "    <tr style=\"text-align: right;\">\n",
              "      <th></th>\n",
              "      <th>id</th>\n",
              "      <th>vendor_id</th>\n",
              "      <th>pickup_datetime</th>\n",
              "      <th>dropoff_datetime</th>\n",
              "      <th>passenger_count</th>\n",
              "      <th>pickup_longitude</th>\n",
              "      <th>pickup_latitude</th>\n",
              "      <th>dropoff_longitude</th>\n",
              "      <th>dropoff_latitude</th>\n",
              "      <th>store_and_fwd_flag</th>\n",
              "      <th>trip_duration</th>\n",
              "    </tr>\n",
              "  </thead>\n",
              "  <tbody>\n",
              "    <tr>\n",
              "      <th>0</th>\n",
              "      <td>id2875421</td>\n",
              "      <td>2</td>\n",
              "      <td>2016-03-14 17:24:55</td>\n",
              "      <td>2016-03-14 17:32:30</td>\n",
              "      <td>1</td>\n",
              "      <td>-73.982155</td>\n",
              "      <td>40.767937</td>\n",
              "      <td>-73.964630</td>\n",
              "      <td>40.765602</td>\n",
              "      <td>N</td>\n",
              "      <td>455.0</td>\n",
              "    </tr>\n",
              "    <tr>\n",
              "      <th>1</th>\n",
              "      <td>id2377394</td>\n",
              "      <td>1</td>\n",
              "      <td>2016-06-12 00:43:35</td>\n",
              "      <td>2016-06-12 00:54:38</td>\n",
              "      <td>1</td>\n",
              "      <td>-73.980415</td>\n",
              "      <td>40.738564</td>\n",
              "      <td>-73.999481</td>\n",
              "      <td>40.731152</td>\n",
              "      <td>N</td>\n",
              "      <td>663.0</td>\n",
              "    </tr>\n",
              "    <tr>\n",
              "      <th>2</th>\n",
              "      <td>id3858529</td>\n",
              "      <td>2</td>\n",
              "      <td>2016-01-19 11:35:24</td>\n",
              "      <td>2016-01-19 12:10:48</td>\n",
              "      <td>1</td>\n",
              "      <td>-73.979027</td>\n",
              "      <td>40.763939</td>\n",
              "      <td>-74.005333</td>\n",
              "      <td>40.710087</td>\n",
              "      <td>N</td>\n",
              "      <td>2124.0</td>\n",
              "    </tr>\n",
              "    <tr>\n",
              "      <th>3</th>\n",
              "      <td>id3504673</td>\n",
              "      <td>2</td>\n",
              "      <td>2016-04-06 19:32:31</td>\n",
              "      <td>2016-04-06 19:39:40</td>\n",
              "      <td>1</td>\n",
              "      <td>-74.010040</td>\n",
              "      <td>40.719971</td>\n",
              "      <td>-74.012268</td>\n",
              "      <td>40.706718</td>\n",
              "      <td>N</td>\n",
              "      <td>429.0</td>\n",
              "    </tr>\n",
              "    <tr>\n",
              "      <th>4</th>\n",
              "      <td>id2181028</td>\n",
              "      <td>2</td>\n",
              "      <td>2016-03-26 13:30:55</td>\n",
              "      <td>2016-03-26 13:38:10</td>\n",
              "      <td>1</td>\n",
              "      <td>-73.973053</td>\n",
              "      <td>40.793209</td>\n",
              "      <td>-73.972923</td>\n",
              "      <td>40.782520</td>\n",
              "      <td>N</td>\n",
              "      <td>435.0</td>\n",
              "    </tr>\n",
              "  </tbody>\n",
              "</table>\n",
              "</div>\n",
              "    <div class=\"colab-df-buttons\">\n",
              "\n",
              "  <div class=\"colab-df-container\">\n",
              "    <button class=\"colab-df-convert\" onclick=\"convertToInteractive('df-395ee1de-0413-4033-9807-e660991c6cd5')\"\n",
              "            title=\"Convert this dataframe to an interactive table.\"\n",
              "            style=\"display:none;\">\n",
              "\n",
              "  <svg xmlns=\"http://www.w3.org/2000/svg\" height=\"24px\" viewBox=\"0 -960 960 960\">\n",
              "    <path d=\"M120-120v-720h720v720H120Zm60-500h600v-160H180v160Zm220 220h160v-160H400v160Zm0 220h160v-160H400v160ZM180-400h160v-160H180v160Zm440 0h160v-160H620v160ZM180-180h160v-160H180v160Zm440 0h160v-160H620v160Z\"/>\n",
              "  </svg>\n",
              "    </button>\n",
              "\n",
              "  <style>\n",
              "    .colab-df-container {\n",
              "      display:flex;\n",
              "      gap: 12px;\n",
              "    }\n",
              "\n",
              "    .colab-df-convert {\n",
              "      background-color: #E8F0FE;\n",
              "      border: none;\n",
              "      border-radius: 50%;\n",
              "      cursor: pointer;\n",
              "      display: none;\n",
              "      fill: #1967D2;\n",
              "      height: 32px;\n",
              "      padding: 0 0 0 0;\n",
              "      width: 32px;\n",
              "    }\n",
              "\n",
              "    .colab-df-convert:hover {\n",
              "      background-color: #E2EBFA;\n",
              "      box-shadow: 0px 1px 2px rgba(60, 64, 67, 0.3), 0px 1px 3px 1px rgba(60, 64, 67, 0.15);\n",
              "      fill: #174EA6;\n",
              "    }\n",
              "\n",
              "    .colab-df-buttons div {\n",
              "      margin-bottom: 4px;\n",
              "    }\n",
              "\n",
              "    [theme=dark] .colab-df-convert {\n",
              "      background-color: #3B4455;\n",
              "      fill: #D2E3FC;\n",
              "    }\n",
              "\n",
              "    [theme=dark] .colab-df-convert:hover {\n",
              "      background-color: #434B5C;\n",
              "      box-shadow: 0px 1px 3px 1px rgba(0, 0, 0, 0.15);\n",
              "      filter: drop-shadow(0px 1px 2px rgba(0, 0, 0, 0.3));\n",
              "      fill: #FFFFFF;\n",
              "    }\n",
              "  </style>\n",
              "\n",
              "    <script>\n",
              "      const buttonEl =\n",
              "        document.querySelector('#df-395ee1de-0413-4033-9807-e660991c6cd5 button.colab-df-convert');\n",
              "      buttonEl.style.display =\n",
              "        google.colab.kernel.accessAllowed ? 'block' : 'none';\n",
              "\n",
              "      async function convertToInteractive(key) {\n",
              "        const element = document.querySelector('#df-395ee1de-0413-4033-9807-e660991c6cd5');\n",
              "        const dataTable =\n",
              "          await google.colab.kernel.invokeFunction('convertToInteractive',\n",
              "                                                    [key], {});\n",
              "        if (!dataTable) return;\n",
              "\n",
              "        const docLinkHtml = 'Like what you see? Visit the ' +\n",
              "          '<a target=\"_blank\" href=https://colab.research.google.com/notebooks/data_table.ipynb>data table notebook</a>'\n",
              "          + ' to learn more about interactive tables.';\n",
              "        element.innerHTML = '';\n",
              "        dataTable['output_type'] = 'display_data';\n",
              "        await google.colab.output.renderOutput(dataTable, element);\n",
              "        const docLink = document.createElement('div');\n",
              "        docLink.innerHTML = docLinkHtml;\n",
              "        element.appendChild(docLink);\n",
              "      }\n",
              "    </script>\n",
              "  </div>\n",
              "\n",
              "\n",
              "<div id=\"df-3ebfa239-ca56-44db-87fd-6b2952b560c1\">\n",
              "  <button class=\"colab-df-quickchart\" onclick=\"quickchart('df-3ebfa239-ca56-44db-87fd-6b2952b560c1')\"\n",
              "            title=\"Suggest charts.\"\n",
              "            style=\"display:none;\">\n",
              "\n",
              "<svg xmlns=\"http://www.w3.org/2000/svg\" height=\"24px\"viewBox=\"0 0 24 24\"\n",
              "     width=\"24px\">\n",
              "    <g>\n",
              "        <path d=\"M19 3H5c-1.1 0-2 .9-2 2v14c0 1.1.9 2 2 2h14c1.1 0 2-.9 2-2V5c0-1.1-.9-2-2-2zM9 17H7v-7h2v7zm4 0h-2V7h2v10zm4 0h-2v-4h2v4z\"/>\n",
              "    </g>\n",
              "</svg>\n",
              "  </button>\n",
              "\n",
              "<style>\n",
              "  .colab-df-quickchart {\n",
              "      --bg-color: #E8F0FE;\n",
              "      --fill-color: #1967D2;\n",
              "      --hover-bg-color: #E2EBFA;\n",
              "      --hover-fill-color: #174EA6;\n",
              "      --disabled-fill-color: #AAA;\n",
              "      --disabled-bg-color: #DDD;\n",
              "  }\n",
              "\n",
              "  [theme=dark] .colab-df-quickchart {\n",
              "      --bg-color: #3B4455;\n",
              "      --fill-color: #D2E3FC;\n",
              "      --hover-bg-color: #434B5C;\n",
              "      --hover-fill-color: #FFFFFF;\n",
              "      --disabled-bg-color: #3B4455;\n",
              "      --disabled-fill-color: #666;\n",
              "  }\n",
              "\n",
              "  .colab-df-quickchart {\n",
              "    background-color: var(--bg-color);\n",
              "    border: none;\n",
              "    border-radius: 50%;\n",
              "    cursor: pointer;\n",
              "    display: none;\n",
              "    fill: var(--fill-color);\n",
              "    height: 32px;\n",
              "    padding: 0;\n",
              "    width: 32px;\n",
              "  }\n",
              "\n",
              "  .colab-df-quickchart:hover {\n",
              "    background-color: var(--hover-bg-color);\n",
              "    box-shadow: 0 1px 2px rgba(60, 64, 67, 0.3), 0 1px 3px 1px rgba(60, 64, 67, 0.15);\n",
              "    fill: var(--button-hover-fill-color);\n",
              "  }\n",
              "\n",
              "  .colab-df-quickchart-complete:disabled,\n",
              "  .colab-df-quickchart-complete:disabled:hover {\n",
              "    background-color: var(--disabled-bg-color);\n",
              "    fill: var(--disabled-fill-color);\n",
              "    box-shadow: none;\n",
              "  }\n",
              "\n",
              "  .colab-df-spinner {\n",
              "    border: 2px solid var(--fill-color);\n",
              "    border-color: transparent;\n",
              "    border-bottom-color: var(--fill-color);\n",
              "    animation:\n",
              "      spin 1s steps(1) infinite;\n",
              "  }\n",
              "\n",
              "  @keyframes spin {\n",
              "    0% {\n",
              "      border-color: transparent;\n",
              "      border-bottom-color: var(--fill-color);\n",
              "      border-left-color: var(--fill-color);\n",
              "    }\n",
              "    20% {\n",
              "      border-color: transparent;\n",
              "      border-left-color: var(--fill-color);\n",
              "      border-top-color: var(--fill-color);\n",
              "    }\n",
              "    30% {\n",
              "      border-color: transparent;\n",
              "      border-left-color: var(--fill-color);\n",
              "      border-top-color: var(--fill-color);\n",
              "      border-right-color: var(--fill-color);\n",
              "    }\n",
              "    40% {\n",
              "      border-color: transparent;\n",
              "      border-right-color: var(--fill-color);\n",
              "      border-top-color: var(--fill-color);\n",
              "    }\n",
              "    60% {\n",
              "      border-color: transparent;\n",
              "      border-right-color: var(--fill-color);\n",
              "    }\n",
              "    80% {\n",
              "      border-color: transparent;\n",
              "      border-right-color: var(--fill-color);\n",
              "      border-bottom-color: var(--fill-color);\n",
              "    }\n",
              "    90% {\n",
              "      border-color: transparent;\n",
              "      border-bottom-color: var(--fill-color);\n",
              "    }\n",
              "  }\n",
              "</style>\n",
              "\n",
              "  <script>\n",
              "    async function quickchart(key) {\n",
              "      const quickchartButtonEl =\n",
              "        document.querySelector('#' + key + ' button');\n",
              "      quickchartButtonEl.disabled = true;  // To prevent multiple clicks.\n",
              "      quickchartButtonEl.classList.add('colab-df-spinner');\n",
              "      try {\n",
              "        const charts = await google.colab.kernel.invokeFunction(\n",
              "            'suggestCharts', [key], {});\n",
              "      } catch (error) {\n",
              "        console.error('Error during call to suggestCharts:', error);\n",
              "      }\n",
              "      quickchartButtonEl.classList.remove('colab-df-spinner');\n",
              "      quickchartButtonEl.classList.add('colab-df-quickchart-complete');\n",
              "    }\n",
              "    (() => {\n",
              "      let quickchartButtonEl =\n",
              "        document.querySelector('#df-3ebfa239-ca56-44db-87fd-6b2952b560c1 button');\n",
              "      quickchartButtonEl.style.display =\n",
              "        google.colab.kernel.accessAllowed ? 'block' : 'none';\n",
              "    })();\n",
              "  </script>\n",
              "</div>\n",
              "    </div>\n",
              "  </div>\n"
            ]
          },
          "metadata": {},
          "execution_count": 4
        }
      ]
    },
    {
      "cell_type": "code",
      "source": [
        "data_df.describe()"
      ],
      "metadata": {
        "ExecuteTime": {
          "end_time": "2019-10-14T18:25:04.505583Z",
          "start_time": "2019-10-14T18:25:04.479625Z"
        },
        "trusted": true,
        "colab": {
          "base_uri": "https://localhost:8080/",
          "height": 320
        },
        "id": "PVyb3OJKe76t",
        "outputId": "57052e16-3e6e-47fd-ad83-1b126ced9db4"
      },
      "execution_count": 5,
      "outputs": [
        {
          "output_type": "execute_result",
          "data": {
            "text/plain": [
              "           vendor_id  passenger_count  pickup_longitude  pickup_latitude  \\\n",
              "count  426989.000000    426989.000000     426989.000000    426989.000000   \n",
              "mean        1.534833         1.661298        -73.973550        40.750998   \n",
              "std         0.498786         1.310041          0.039406         0.034987   \n",
              "min         1.000000         0.000000        -77.896019        34.712234   \n",
              "25%         1.000000         1.000000        -73.991898        40.737389   \n",
              "50%         2.000000         1.000000        -73.981758        40.754158   \n",
              "75%         2.000000         2.000000        -73.967308        40.768375   \n",
              "max         2.000000         6.000000        -72.809669        51.881084   \n",
              "\n",
              "       dropoff_longitude  dropoff_latitude  trip_duration  \n",
              "count      426988.000000     426988.000000   4.269880e+05  \n",
              "mean          -73.973424         40.751827   9.555793e+02  \n",
              "std             0.038931          0.035970   4.328267e+03  \n",
              "min           -79.817978         32.181141   1.000000e+00  \n",
              "25%           -73.991333         40.735970   3.970000e+02  \n",
              "50%           -73.979736         40.754501   6.620000e+02  \n",
              "75%           -73.962959         40.769836   1.074000e+03  \n",
              "max           -72.671150         43.486885   1.939736e+06  "
            ],
            "text/html": [
              "\n",
              "  <div id=\"df-a5941ca0-fcca-4438-a3a8-638f1e66819c\" class=\"colab-df-container\">\n",
              "    <div>\n",
              "<style scoped>\n",
              "    .dataframe tbody tr th:only-of-type {\n",
              "        vertical-align: middle;\n",
              "    }\n",
              "\n",
              "    .dataframe tbody tr th {\n",
              "        vertical-align: top;\n",
              "    }\n",
              "\n",
              "    .dataframe thead th {\n",
              "        text-align: right;\n",
              "    }\n",
              "</style>\n",
              "<table border=\"1\" class=\"dataframe\">\n",
              "  <thead>\n",
              "    <tr style=\"text-align: right;\">\n",
              "      <th></th>\n",
              "      <th>vendor_id</th>\n",
              "      <th>passenger_count</th>\n",
              "      <th>pickup_longitude</th>\n",
              "      <th>pickup_latitude</th>\n",
              "      <th>dropoff_longitude</th>\n",
              "      <th>dropoff_latitude</th>\n",
              "      <th>trip_duration</th>\n",
              "    </tr>\n",
              "  </thead>\n",
              "  <tbody>\n",
              "    <tr>\n",
              "      <th>count</th>\n",
              "      <td>426989.000000</td>\n",
              "      <td>426989.000000</td>\n",
              "      <td>426989.000000</td>\n",
              "      <td>426989.000000</td>\n",
              "      <td>426988.000000</td>\n",
              "      <td>426988.000000</td>\n",
              "      <td>4.269880e+05</td>\n",
              "    </tr>\n",
              "    <tr>\n",
              "      <th>mean</th>\n",
              "      <td>1.534833</td>\n",
              "      <td>1.661298</td>\n",
              "      <td>-73.973550</td>\n",
              "      <td>40.750998</td>\n",
              "      <td>-73.973424</td>\n",
              "      <td>40.751827</td>\n",
              "      <td>9.555793e+02</td>\n",
              "    </tr>\n",
              "    <tr>\n",
              "      <th>std</th>\n",
              "      <td>0.498786</td>\n",
              "      <td>1.310041</td>\n",
              "      <td>0.039406</td>\n",
              "      <td>0.034987</td>\n",
              "      <td>0.038931</td>\n",
              "      <td>0.035970</td>\n",
              "      <td>4.328267e+03</td>\n",
              "    </tr>\n",
              "    <tr>\n",
              "      <th>min</th>\n",
              "      <td>1.000000</td>\n",
              "      <td>0.000000</td>\n",
              "      <td>-77.896019</td>\n",
              "      <td>34.712234</td>\n",
              "      <td>-79.817978</td>\n",
              "      <td>32.181141</td>\n",
              "      <td>1.000000e+00</td>\n",
              "    </tr>\n",
              "    <tr>\n",
              "      <th>25%</th>\n",
              "      <td>1.000000</td>\n",
              "      <td>1.000000</td>\n",
              "      <td>-73.991898</td>\n",
              "      <td>40.737389</td>\n",
              "      <td>-73.991333</td>\n",
              "      <td>40.735970</td>\n",
              "      <td>3.970000e+02</td>\n",
              "    </tr>\n",
              "    <tr>\n",
              "      <th>50%</th>\n",
              "      <td>2.000000</td>\n",
              "      <td>1.000000</td>\n",
              "      <td>-73.981758</td>\n",
              "      <td>40.754158</td>\n",
              "      <td>-73.979736</td>\n",
              "      <td>40.754501</td>\n",
              "      <td>6.620000e+02</td>\n",
              "    </tr>\n",
              "    <tr>\n",
              "      <th>75%</th>\n",
              "      <td>2.000000</td>\n",
              "      <td>2.000000</td>\n",
              "      <td>-73.967308</td>\n",
              "      <td>40.768375</td>\n",
              "      <td>-73.962959</td>\n",
              "      <td>40.769836</td>\n",
              "      <td>1.074000e+03</td>\n",
              "    </tr>\n",
              "    <tr>\n",
              "      <th>max</th>\n",
              "      <td>2.000000</td>\n",
              "      <td>6.000000</td>\n",
              "      <td>-72.809669</td>\n",
              "      <td>51.881084</td>\n",
              "      <td>-72.671150</td>\n",
              "      <td>43.486885</td>\n",
              "      <td>1.939736e+06</td>\n",
              "    </tr>\n",
              "  </tbody>\n",
              "</table>\n",
              "</div>\n",
              "    <div class=\"colab-df-buttons\">\n",
              "\n",
              "  <div class=\"colab-df-container\">\n",
              "    <button class=\"colab-df-convert\" onclick=\"convertToInteractive('df-a5941ca0-fcca-4438-a3a8-638f1e66819c')\"\n",
              "            title=\"Convert this dataframe to an interactive table.\"\n",
              "            style=\"display:none;\">\n",
              "\n",
              "  <svg xmlns=\"http://www.w3.org/2000/svg\" height=\"24px\" viewBox=\"0 -960 960 960\">\n",
              "    <path d=\"M120-120v-720h720v720H120Zm60-500h600v-160H180v160Zm220 220h160v-160H400v160Zm0 220h160v-160H400v160ZM180-400h160v-160H180v160Zm440 0h160v-160H620v160ZM180-180h160v-160H180v160Zm440 0h160v-160H620v160Z\"/>\n",
              "  </svg>\n",
              "    </button>\n",
              "\n",
              "  <style>\n",
              "    .colab-df-container {\n",
              "      display:flex;\n",
              "      gap: 12px;\n",
              "    }\n",
              "\n",
              "    .colab-df-convert {\n",
              "      background-color: #E8F0FE;\n",
              "      border: none;\n",
              "      border-radius: 50%;\n",
              "      cursor: pointer;\n",
              "      display: none;\n",
              "      fill: #1967D2;\n",
              "      height: 32px;\n",
              "      padding: 0 0 0 0;\n",
              "      width: 32px;\n",
              "    }\n",
              "\n",
              "    .colab-df-convert:hover {\n",
              "      background-color: #E2EBFA;\n",
              "      box-shadow: 0px 1px 2px rgba(60, 64, 67, 0.3), 0px 1px 3px 1px rgba(60, 64, 67, 0.15);\n",
              "      fill: #174EA6;\n",
              "    }\n",
              "\n",
              "    .colab-df-buttons div {\n",
              "      margin-bottom: 4px;\n",
              "    }\n",
              "\n",
              "    [theme=dark] .colab-df-convert {\n",
              "      background-color: #3B4455;\n",
              "      fill: #D2E3FC;\n",
              "    }\n",
              "\n",
              "    [theme=dark] .colab-df-convert:hover {\n",
              "      background-color: #434B5C;\n",
              "      box-shadow: 0px 1px 3px 1px rgba(0, 0, 0, 0.15);\n",
              "      filter: drop-shadow(0px 1px 2px rgba(0, 0, 0, 0.3));\n",
              "      fill: #FFFFFF;\n",
              "    }\n",
              "  </style>\n",
              "\n",
              "    <script>\n",
              "      const buttonEl =\n",
              "        document.querySelector('#df-a5941ca0-fcca-4438-a3a8-638f1e66819c button.colab-df-convert');\n",
              "      buttonEl.style.display =\n",
              "        google.colab.kernel.accessAllowed ? 'block' : 'none';\n",
              "\n",
              "      async function convertToInteractive(key) {\n",
              "        const element = document.querySelector('#df-a5941ca0-fcca-4438-a3a8-638f1e66819c');\n",
              "        const dataTable =\n",
              "          await google.colab.kernel.invokeFunction('convertToInteractive',\n",
              "                                                    [key], {});\n",
              "        if (!dataTable) return;\n",
              "\n",
              "        const docLinkHtml = 'Like what you see? Visit the ' +\n",
              "          '<a target=\"_blank\" href=https://colab.research.google.com/notebooks/data_table.ipynb>data table notebook</a>'\n",
              "          + ' to learn more about interactive tables.';\n",
              "        element.innerHTML = '';\n",
              "        dataTable['output_type'] = 'display_data';\n",
              "        await google.colab.output.renderOutput(dataTable, element);\n",
              "        const docLink = document.createElement('div');\n",
              "        docLink.innerHTML = docLinkHtml;\n",
              "        element.appendChild(docLink);\n",
              "      }\n",
              "    </script>\n",
              "  </div>\n",
              "\n",
              "\n",
              "<div id=\"df-76443e25-5543-44d5-a529-34a13f3580d4\">\n",
              "  <button class=\"colab-df-quickchart\" onclick=\"quickchart('df-76443e25-5543-44d5-a529-34a13f3580d4')\"\n",
              "            title=\"Suggest charts.\"\n",
              "            style=\"display:none;\">\n",
              "\n",
              "<svg xmlns=\"http://www.w3.org/2000/svg\" height=\"24px\"viewBox=\"0 0 24 24\"\n",
              "     width=\"24px\">\n",
              "    <g>\n",
              "        <path d=\"M19 3H5c-1.1 0-2 .9-2 2v14c0 1.1.9 2 2 2h14c1.1 0 2-.9 2-2V5c0-1.1-.9-2-2-2zM9 17H7v-7h2v7zm4 0h-2V7h2v10zm4 0h-2v-4h2v4z\"/>\n",
              "    </g>\n",
              "</svg>\n",
              "  </button>\n",
              "\n",
              "<style>\n",
              "  .colab-df-quickchart {\n",
              "      --bg-color: #E8F0FE;\n",
              "      --fill-color: #1967D2;\n",
              "      --hover-bg-color: #E2EBFA;\n",
              "      --hover-fill-color: #174EA6;\n",
              "      --disabled-fill-color: #AAA;\n",
              "      --disabled-bg-color: #DDD;\n",
              "  }\n",
              "\n",
              "  [theme=dark] .colab-df-quickchart {\n",
              "      --bg-color: #3B4455;\n",
              "      --fill-color: #D2E3FC;\n",
              "      --hover-bg-color: #434B5C;\n",
              "      --hover-fill-color: #FFFFFF;\n",
              "      --disabled-bg-color: #3B4455;\n",
              "      --disabled-fill-color: #666;\n",
              "  }\n",
              "\n",
              "  .colab-df-quickchart {\n",
              "    background-color: var(--bg-color);\n",
              "    border: none;\n",
              "    border-radius: 50%;\n",
              "    cursor: pointer;\n",
              "    display: none;\n",
              "    fill: var(--fill-color);\n",
              "    height: 32px;\n",
              "    padding: 0;\n",
              "    width: 32px;\n",
              "  }\n",
              "\n",
              "  .colab-df-quickchart:hover {\n",
              "    background-color: var(--hover-bg-color);\n",
              "    box-shadow: 0 1px 2px rgba(60, 64, 67, 0.3), 0 1px 3px 1px rgba(60, 64, 67, 0.15);\n",
              "    fill: var(--button-hover-fill-color);\n",
              "  }\n",
              "\n",
              "  .colab-df-quickchart-complete:disabled,\n",
              "  .colab-df-quickchart-complete:disabled:hover {\n",
              "    background-color: var(--disabled-bg-color);\n",
              "    fill: var(--disabled-fill-color);\n",
              "    box-shadow: none;\n",
              "  }\n",
              "\n",
              "  .colab-df-spinner {\n",
              "    border: 2px solid var(--fill-color);\n",
              "    border-color: transparent;\n",
              "    border-bottom-color: var(--fill-color);\n",
              "    animation:\n",
              "      spin 1s steps(1) infinite;\n",
              "  }\n",
              "\n",
              "  @keyframes spin {\n",
              "    0% {\n",
              "      border-color: transparent;\n",
              "      border-bottom-color: var(--fill-color);\n",
              "      border-left-color: var(--fill-color);\n",
              "    }\n",
              "    20% {\n",
              "      border-color: transparent;\n",
              "      border-left-color: var(--fill-color);\n",
              "      border-top-color: var(--fill-color);\n",
              "    }\n",
              "    30% {\n",
              "      border-color: transparent;\n",
              "      border-left-color: var(--fill-color);\n",
              "      border-top-color: var(--fill-color);\n",
              "      border-right-color: var(--fill-color);\n",
              "    }\n",
              "    40% {\n",
              "      border-color: transparent;\n",
              "      border-right-color: var(--fill-color);\n",
              "      border-top-color: var(--fill-color);\n",
              "    }\n",
              "    60% {\n",
              "      border-color: transparent;\n",
              "      border-right-color: var(--fill-color);\n",
              "    }\n",
              "    80% {\n",
              "      border-color: transparent;\n",
              "      border-right-color: var(--fill-color);\n",
              "      border-bottom-color: var(--fill-color);\n",
              "    }\n",
              "    90% {\n",
              "      border-color: transparent;\n",
              "      border-bottom-color: var(--fill-color);\n",
              "    }\n",
              "  }\n",
              "</style>\n",
              "\n",
              "  <script>\n",
              "    async function quickchart(key) {\n",
              "      const quickchartButtonEl =\n",
              "        document.querySelector('#' + key + ' button');\n",
              "      quickchartButtonEl.disabled = true;  // To prevent multiple clicks.\n",
              "      quickchartButtonEl.classList.add('colab-df-spinner');\n",
              "      try {\n",
              "        const charts = await google.colab.kernel.invokeFunction(\n",
              "            'suggestCharts', [key], {});\n",
              "      } catch (error) {\n",
              "        console.error('Error during call to suggestCharts:', error);\n",
              "      }\n",
              "      quickchartButtonEl.classList.remove('colab-df-spinner');\n",
              "      quickchartButtonEl.classList.add('colab-df-quickchart-complete');\n",
              "    }\n",
              "    (() => {\n",
              "      let quickchartButtonEl =\n",
              "        document.querySelector('#df-76443e25-5543-44d5-a529-34a13f3580d4 button');\n",
              "      quickchartButtonEl.style.display =\n",
              "        google.colab.kernel.accessAllowed ? 'block' : 'none';\n",
              "    })();\n",
              "  </script>\n",
              "</div>\n",
              "    </div>\n",
              "  </div>\n"
            ]
          },
          "metadata": {},
          "execution_count": 5
        }
      ]
    },
    {
      "cell_type": "markdown",
      "source": [
        "### vendor_id"
      ],
      "metadata": {
        "id": "n8opN87Xe76t"
      }
    },
    {
      "cell_type": "code",
      "source": [
        "sns.boxplot(x='vendor_id', y='trip_duration', data=data_df)"
      ],
      "metadata": {
        "ExecuteTime": {
          "end_time": "2019-10-14T18:25:04.956204Z",
          "start_time": "2019-10-14T18:25:04.863441Z"
        },
        "trusted": true,
        "colab": {
          "base_uri": "https://localhost:8080/",
          "height": 482
        },
        "id": "5OL8OQWme76u",
        "outputId": "d098a8e1-27db-4744-f6bd-b7fb40c0e737"
      },
      "execution_count": 6,
      "outputs": [
        {
          "output_type": "execute_result",
          "data": {
            "text/plain": [
              "<Axes: xlabel='vendor_id', ylabel='trip_duration'>"
            ]
          },
          "metadata": {},
          "execution_count": 6
        },
        {
          "output_type": "display_data",
          "data": {
            "text/plain": [
              "<Figure size 640x480 with 1 Axes>"
            ],
            "image/png": "[encoded data removed]"
          },
          "metadata": {}
        }
      ]
    },
    {
      "cell_type": "markdown",
      "source": [
        "Data point bigger then 500000"
      ],
      "metadata": {
        "id": "F98W5XJAe76u"
      }
    },
    {
      "cell_type": "code",
      "source": [
        "data_df[(data_df['trip_duration']>500000)].count()"
      ],
      "metadata": {
        "ExecuteTime": {
          "end_time": "2019-10-14T18:25:40.001308Z",
          "start_time": "2019-10-14T18:25:39.99532Z"
        },
        "trusted": true,
        "colab": {
          "base_uri": "https://localhost:8080/"
        },
        "id": "zygUuCIde76u",
        "outputId": "7bb79389-8a4a-4214-e761-b06cd360b83e"
      },
      "execution_count": 7,
      "outputs": [
        {
          "output_type": "execute_result",
          "data": {
            "text/plain": [
              "id                    1\n",
              "vendor_id             1\n",
              "pickup_datetime       1\n",
              "dropoff_datetime      1\n",
              "passenger_count       1\n",
              "pickup_longitude      1\n",
              "pickup_latitude       1\n",
              "dropoff_longitude     1\n",
              "dropoff_latitude      1\n",
              "store_and_fwd_flag    1\n",
              "trip_duration         1\n",
              "dtype: int64"
            ]
          },
          "metadata": {},
          "execution_count": 7
        }
      ]
    },
    {
      "cell_type": "markdown",
      "source": [
        "**Therefore permanently droppping these rows**"
      ],
      "metadata": {
        "id": "3W3mifYNe76v"
      }
    },
    {
      "cell_type": "code",
      "source": [
        "data_df.drop(data_df[data_df['trip_duration'] > 500000].index, inplace=True)"
      ],
      "metadata": {
        "ExecuteTime": {
          "end_time": "2019-10-14T18:25:40.717014Z",
          "start_time": "2019-10-14T18:25:40.71103Z"
        },
        "trusted": true,
        "id": "gZFv-Qn6e76v"
      },
      "execution_count": 8,
      "outputs": []
    },
    {
      "cell_type": "markdown",
      "source": [
        "### Distribution of trip_duration"
      ],
      "metadata": {
        "id": "tzcxnZBve76v"
      }
    },
    {
      "cell_type": "code",
      "source": [
        "sns.distplot(data_df['trip_duration'], bins=20000)"
      ],
      "metadata": {
        "ExecuteTime": {
          "end_time": "2019-10-14T18:26:14.717325Z",
          "start_time": "2019-10-14T18:25:41.427318Z"
        },
        "trusted": true,
        "colab": {
          "base_uri": "https://localhost:8080/",
          "height": 658
        },
        "id": "G9zW2JmHe76v",
        "outputId": "66cf484c-d5cb-4b41-e61c-c047dc26fe0b"
      },
      "execution_count": 9,
      "outputs": [
        {
          "output_type": "stream",
          "name": "stderr",
          "text": [
            "<ipython-input-9-c24e07a5ece7>:1: UserWarning: \n",
            "\n",
            "`distplot` is a deprecated function and will be removed in seaborn v0.14.0.\n",
            "\n",
            "Please adapt your code to use either `displot` (a figure-level function with\n",
            "similar flexibility) or `histplot` (an axes-level function for histograms).\n",
            "\n",
            "For a guide to updating your code to use the new functions, please see\n",
            "https://gist.github.com/mwaskom/de44147ed2974457ad6372750bbe5751\n",
            "\n",
            "  sns.distplot(data_df['trip_duration'], bins=20000)\n"
          ]
        },
        {
          "output_type": "execute_result",
          "data": {
            "text/plain": [
              "<Axes: xlabel='trip_duration', ylabel='Density'>"
            ]
          },
          "metadata": {},
          "execution_count": 9
        },
        {
          "output_type": "display_data",
          "data": {
            "text/plain": [
              "<Figure size 640x480 with 1 Axes>"
            ],
            "image/png": "[encoded data removed]"
          },
          "metadata": {}
        }
      ]
    },
    {
      "cell_type": "markdown",
      "source": [
        "Since it is left skewed, so we will take log(with any base) of it."
      ],
      "metadata": {
        "id": "1d_D9DEze76w"
      }
    },
    {
      "cell_type": "code",
      "source": [
        "sns.distplot(np.log(data_df['trip_duration']), bins=20000)\n",
        "import seaborn as sns\n",
        "import matplotlib.pyplot as plt\n",
        "\n"
      ],
      "metadata": {
        "ExecuteTime": {
          "end_time": "2019-10-14T18:26:48.467728Z",
          "start_time": "2019-10-14T18:26:14.845972Z"
        },
        "trusted": true,
        "colab": {
          "base_uri": "https://localhost:8080/",
          "height": 641
        },
        "id": "LoDNePIie76w",
        "outputId": "42bcc614-b602-4ad1-ab61-9347809571ca"
      },
      "execution_count": 10,
      "outputs": [
        {
          "output_type": "stream",
          "name": "stderr",
          "text": [
            "<ipython-input-10-00552db5a3d1>:1: UserWarning: \n",
            "\n",
            "`distplot` is a deprecated function and will be removed in seaborn v0.14.0.\n",
            "\n",
            "Please adapt your code to use either `displot` (a figure-level function with\n",
            "similar flexibility) or `histplot` (an axes-level function for histograms).\n",
            "\n",
            "For a guide to updating your code to use the new functions, please see\n",
            "https://gist.github.com/mwaskom/de44147ed2974457ad6372750bbe5751\n",
            "\n",
            "  sns.distplot(np.log(data_df['trip_duration']), bins=20000)\n"
          ]
        },
        {
          "output_type": "display_data",
          "data": {
            "text/plain": [
              "<Figure size 640x480 with 1 Axes>"
            ],
            "image/png": "[encoded data removed]"
          },
          "metadata": {}
        }
      ]
    },
    {
      "cell_type": "code",
      "source": [
        "import pandas as pd\n",
        "import math\n",
        "# Assuming data_df is your DataFrame\n",
        "data_df['trip_duration'] = data_df['trip_duration'].apply(lambda x: math.log(x + 1) if x > 0 else 0)\n",
        "#data_df['trip_duration'] = data_df['trip_duration'].apply(math.log)"
      ],
      "metadata": {
        "ExecuteTime": {
          "end_time": "2019-10-14T18:26:48.593392Z",
          "start_time": "2019-10-14T18:26:48.587409Z"
        },
        "id": "UytuLVSYe76w"
      },
      "execution_count": 11,
      "outputs": []
    },
    {
      "cell_type": "markdown",
      "source": [
        "### vendor_id"
      ],
      "metadata": {
        "id": "Hg8raTXke76w"
      }
    },
    {
      "cell_type": "code",
      "source": [
        "data_df = data_df[(data_df['trip_duration']<100000)]"
      ],
      "metadata": {
        "ExecuteTime": {
          "end_time": "2019-10-14T18:26:48.717062Z",
          "start_time": "2019-10-14T18:26:48.712074Z"
        },
        "id": "cK2FPjpXe76w"
      },
      "execution_count": 12,
      "outputs": []
    },
    {
      "cell_type": "code",
      "source": [
        "data_df.reset_index(drop = True, inplace=True)"
      ],
      "metadata": {
        "ExecuteTime": {
          "end_time": "2019-10-14T18:26:48.83477Z",
          "start_time": "2019-10-14T18:26:48.83278Z"
        },
        "id": "8Kbpv-sPe76x"
      },
      "execution_count": 13,
      "outputs": []
    },
    {
      "cell_type": "code",
      "source": [
        "sns.countplot(x = 'vendor_id', data=data_df)"
      ],
      "metadata": {
        "ExecuteTime": {
          "end_time": "2019-10-14T18:26:49.025265Z",
          "start_time": "2019-10-14T18:26:48.948465Z"
        },
        "colab": {
          "base_uri": "https://localhost:8080/",
          "height": 467
        },
        "id": "xiDgCC5ee76x",
        "outputId": "e0670e5b-3f7a-42d1-a7c4-8b72f300bd60"
      },
      "execution_count": 14,
      "outputs": [
        {
          "output_type": "execute_result",
          "data": {
            "text/plain": [
              "<Axes: xlabel='vendor_id', ylabel='count'>"
            ]
          },
          "metadata": {},
          "execution_count": 14
        },
        {
          "output_type": "display_data",
          "data": {
            "text/plain": [
              "<Figure size 640x480 with 1 Axes>"
            ],
            "image/png": "[encoded data removed]"
          },
          "metadata": {}
        }
      ]
    },
    {
      "cell_type": "code",
      "source": [
        "sns.boxplot(x='vendor_id', y='trip_duration', data=data_df)"
      ],
      "metadata": {
        "ExecuteTime": {
          "end_time": "2019-10-14T18:26:49.235675Z",
          "start_time": "2019-10-14T18:26:49.146912Z"
        },
        "colab": {
          "base_uri": "https://localhost:8080/",
          "height": 467
        },
        "id": "_9YxJ3Hue76x",
        "outputId": "85d32033-574b-4f22-b526-83c412cee4a8"
      },
      "execution_count": 15,
      "outputs": [
        {
          "output_type": "execute_result",
          "data": {
            "text/plain": [
              "<Axes: xlabel='vendor_id', ylabel='trip_duration'>"
            ]
          },
          "metadata": {},
          "execution_count": 15
        },
        {
          "output_type": "display_data",
          "data": {
            "text/plain": [
              "<Figure size 640x480 with 1 Axes>"
            ],
            "image/png": "[encoded data removed]"
          },
          "metadata": {}
        }
      ]
    },
    {
      "cell_type": "markdown",
      "source": [
        "From the above graph we can see **vendor_id** can play a key role"
      ],
      "metadata": {
        "id": "gipB70K0e76x"
      }
    },
    {
      "cell_type": "markdown",
      "source": [
        "### passenger_count"
      ],
      "metadata": {
        "id": "idi4tVzOe76x"
      }
    },
    {
      "cell_type": "code",
      "source": [
        "sns.countplot(x = 'passenger_count', data=data_df)"
      ],
      "metadata": {
        "ExecuteTime": {
          "end_time": "2019-10-14T18:26:49.452124Z",
          "start_time": "2019-10-14T18:26:49.351393Z"
        },
        "colab": {
          "base_uri": "https://localhost:8080/",
          "height": 466
        },
        "id": "p3c-fgMme76x",
        "outputId": "2118242a-f736-4c60-f700-66209d481869"
      },
      "execution_count": 16,
      "outputs": [
        {
          "output_type": "execute_result",
          "data": {
            "text/plain": [
              "<Axes: xlabel='passenger_count', ylabel='count'>"
            ]
          },
          "metadata": {},
          "execution_count": 16
        },
        {
          "output_type": "display_data",
          "data": {
            "text/plain": [
              "<Figure size 640x480 with 1 Axes>"
            ],
            "image/png": "[encoded data removed]"
          },
          "metadata": {}
        }
      ]
    },
    {
      "cell_type": "code",
      "source": [
        "sns.boxplot(x = 'passenger_count', y = 'trip_duration', data=data_df)"
      ],
      "metadata": {
        "ExecuteTime": {
          "end_time": "2019-10-14T18:26:49.703424Z",
          "start_time": "2019-10-14T18:26:49.567818Z"
        },
        "colab": {
          "base_uri": "https://localhost:8080/",
          "height": 466
        },
        "id": "cxkvM3Mge76x",
        "outputId": "d769a042-2d86-4708-c5e2-3e32d9ee836d"
      },
      "execution_count": 17,
      "outputs": [
        {
          "output_type": "execute_result",
          "data": {
            "text/plain": [
              "<Axes: xlabel='passenger_count', ylabel='trip_duration'>"
            ]
          },
          "metadata": {},
          "execution_count": 17
        },
        {
          "output_type": "display_data",
          "data": {
            "text/plain": [
              "<Figure size 640x480 with 1 Axes>"
            ],
            "image/png": "[encoded data removed]"
          },
          "metadata": {}
        }
      ]
    },
    {
      "cell_type": "markdown",
      "source": [
        "**passenger_count** is an important feature"
      ],
      "metadata": {
        "id": "9QcVMwtWe76y"
      }
    },
    {
      "cell_type": "markdown",
      "source": [
        "### store_and_fwd_flag"
      ],
      "metadata": {
        "id": "yM8fEFzYe76z"
      }
    },
    {
      "cell_type": "code",
      "source": [
        "sns.countplot(x = 'store_and_fwd_flag', data=data_df)"
      ],
      "metadata": {
        "ExecuteTime": {
          "end_time": "2019-10-14T18:26:49.893937Z",
          "start_time": "2019-10-14T18:26:49.819142Z"
        },
        "colab": {
          "base_uri": "https://localhost:8080/",
          "height": 467
        },
        "id": "JNTqSil1e76z",
        "outputId": "d9b6fe3c-ed01-4628-c70e-f8df60d41d23"
      },
      "execution_count": 18,
      "outputs": [
        {
          "output_type": "execute_result",
          "data": {
            "text/plain": [
              "<Axes: xlabel='store_and_fwd_flag', ylabel='count'>"
            ]
          },
          "metadata": {},
          "execution_count": 18
        },
        {
          "output_type": "display_data",
          "data": {
            "text/plain": [
              "<Figure size 640x480 with 1 Axes>"
            ],
            "image/png": "[encoded data removed]"
          },
          "metadata": {}
        }
      ]
    },
    {
      "cell_type": "code",
      "source": [
        "data_df[data_df['store_and_fwd_flag']=='Y']['trip_duration'].describe()"
      ],
      "metadata": {
        "ExecuteTime": {
          "end_time": "2019-10-14T18:26:50.014622Z",
          "start_time": "2019-10-14T18:26:50.007611Z"
        },
        "colab": {
          "base_uri": "https://localhost:8080/"
        },
        "id": "k4s0z__Re760",
        "outputId": "7b8f4096-e237-4a24-8f1b-8e6bd0ae280c"
      },
      "execution_count": 19,
      "outputs": [
        {
          "output_type": "execute_result",
          "data": {
            "text/plain": [
              "count    2418.000000\n",
              "mean        6.634042\n",
              "std         0.928287\n",
              "min         1.098612\n",
              "25%         6.133398\n",
              "50%         6.711132\n",
              "75%         7.233816\n",
              "max         8.718664\n",
              "Name: trip_duration, dtype: float64"
            ]
          },
          "metadata": {},
          "execution_count": 19
        }
      ]
    },
    {
      "cell_type": "code",
      "source": [
        "sns.distplot(data_df[data_df['store_and_fwd_flag']=='Y']['trip_duration'], bins=1000)"
      ],
      "metadata": {
        "ExecuteTime": {
          "end_time": "2019-10-14T18:26:51.533532Z",
          "start_time": "2019-10-14T18:26:50.131281Z"
        },
        "colab": {
          "base_uri": "https://localhost:8080/",
          "height": 658
        },
        "id": "waQplSk4e760",
        "outputId": "4de7a3c4-9d7c-4752-d128-695c292b0898"
      },
      "execution_count": 20,
      "outputs": [
        {
          "output_type": "stream",
          "name": "stderr",
          "text": [
            "<ipython-input-20-a6493f4cc2ab>:1: UserWarning: \n",
            "\n",
            "`distplot` is a deprecated function and will be removed in seaborn v0.14.0.\n",
            "\n",
            "Please adapt your code to use either `displot` (a figure-level function with\n",
            "similar flexibility) or `histplot` (an axes-level function for histograms).\n",
            "\n",
            "For a guide to updating your code to use the new functions, please see\n",
            "https://gist.github.com/mwaskom/de44147ed2974457ad6372750bbe5751\n",
            "\n",
            "  sns.distplot(data_df[data_df['store_and_fwd_flag']=='Y']['trip_duration'], bins=1000)\n"
          ]
        },
        {
          "output_type": "execute_result",
          "data": {
            "text/plain": [
              "<Axes: xlabel='trip_duration', ylabel='Density'>"
            ]
          },
          "metadata": {},
          "execution_count": 20
        },
        {
          "output_type": "display_data",
          "data": {
            "text/plain": [
              "<Figure size 640x480 with 1 Axes>"
            ],
            "image/png": "[encoded data removed]"
          },
          "metadata": {}
        }
      ]
    },
    {
      "cell_type": "code",
      "source": [
        "data_df[data_df['store_and_fwd_flag']=='N']['trip_duration'].describe()"
      ],
      "metadata": {
        "ExecuteTime": {
          "end_time": "2019-10-14T18:26:51.655206Z",
          "start_time": "2019-10-14T18:26:51.64623Z"
        },
        "colab": {
          "base_uri": "https://localhost:8080/"
        },
        "id": "qAlNwlipe761",
        "outputId": "45f440d9-313a-4dd4-9033-fbf8dbd14c33"
      },
      "execution_count": 21,
      "outputs": [
        {
          "output_type": "execute_result",
          "data": {
            "text/plain": [
              "count    424569.000000\n",
              "mean          6.465583\n",
              "std           0.794806\n",
              "min           0.693147\n",
              "25%           5.986452\n",
              "50%           6.496775\n",
              "75%           6.979145\n",
              "max          11.366650\n",
              "Name: trip_duration, dtype: float64"
            ]
          },
          "metadata": {},
          "execution_count": 21
        }
      ]
    },
    {
      "cell_type": "code",
      "source": [
        "sns.distplot(data_df[data_df['store_and_fwd_flag']=='N']['trip_duration'], bins=1000)"
      ],
      "metadata": {
        "ExecuteTime": {
          "end_time": "2019-10-14T18:26:53.195117Z",
          "start_time": "2019-10-14T18:26:51.771894Z"
        },
        "colab": {
          "base_uri": "https://localhost:8080/",
          "height": 658
        },
        "id": "yse8C9MUe761",
        "outputId": "dd5fd889-0e22-4114-c2d9-c3ed31cc9cee"
      },
      "execution_count": 22,
      "outputs": [
        {
          "output_type": "stream",
          "name": "stderr",
          "text": [
            "<ipython-input-22-787754b13e4f>:1: UserWarning: \n",
            "\n",
            "`distplot` is a deprecated function and will be removed in seaborn v0.14.0.\n",
            "\n",
            "Please adapt your code to use either `displot` (a figure-level function with\n",
            "similar flexibility) or `histplot` (an axes-level function for histograms).\n",
            "\n",
            "For a guide to updating your code to use the new functions, please see\n",
            "https://gist.github.com/mwaskom/de44147ed2974457ad6372750bbe5751\n",
            "\n",
            "  sns.distplot(data_df[data_df['store_and_fwd_flag']=='N']['trip_duration'], bins=1000)\n"
          ]
        },
        {
          "output_type": "execute_result",
          "data": {
            "text/plain": [
              "<Axes: xlabel='trip_duration', ylabel='Density'>"
            ]
          },
          "metadata": {},
          "execution_count": 22
        },
        {
          "output_type": "display_data",
          "data": {
            "text/plain": [
              "<Figure size 640x480 with 1 Axes>"
            ],
            "image/png": "[encoded data removed]"
          },
          "metadata": {}
        }
      ]
    },
    {
      "cell_type": "code",
      "source": [
        "sns.boxplot(x = 'store_and_fwd_flag', y = 'trip_duration', data=data_df)"
      ],
      "metadata": {
        "ExecuteTime": {
          "end_time": "2019-10-14T18:26:53.402557Z",
          "start_time": "2019-10-14T18:26:53.312775Z"
        },
        "colab": {
          "base_uri": "https://localhost:8080/",
          "height": 467
        },
        "id": "0yrphdXKe762",
        "outputId": "3290698e-df80-41fd-970d-b78b39864e9d"
      },
      "execution_count": 23,
      "outputs": [
        {
          "output_type": "execute_result",
          "data": {
            "text/plain": [
              "<Axes: xlabel='store_and_fwd_flag', ylabel='trip_duration'>"
            ]
          },
          "metadata": {},
          "execution_count": 23
        },
        {
          "output_type": "display_data",
          "data": {
            "text/plain": [
              "<Figure size 640x480 with 1 Axes>"
            ],
            "image/png": "[encoded data removed]"
          },
          "metadata": {}
        }
      ]
    },
    {
      "cell_type": "markdown",
      "source": [
        "### Time"
      ],
      "metadata": {
        "id": "HzTW6skxe762"
      }
    },
    {
      "cell_type": "code",
      "source": [
        "def strtodatetime(x):\n",
        "    return datetime.strptime(x, \"%Y-%m-%d %H:%M:%S\")"
      ],
      "metadata": {
        "ExecuteTime": {
          "end_time": "2019-10-14T18:26:53.522215Z",
          "start_time": "2019-10-14T18:26:53.519223Z"
        },
        "id": "xpQB_Di2e762"
      },
      "execution_count": 24,
      "outputs": []
    },
    {
      "cell_type": "code",
      "source": [
        "data_df['pickup_datetime'] = data_df['pickup_datetime'].apply(strtodatetime)"
      ],
      "metadata": {
        "ExecuteTime": {
          "end_time": "2019-10-14T18:26:53.687775Z",
          "start_time": "2019-10-14T18:26:53.640897Z"
        },
        "id": "0jRE02QLe769"
      },
      "execution_count": 25,
      "outputs": []
    },
    {
      "cell_type": "markdown",
      "source": [
        "Only considering pickup time foe day of week"
      ],
      "metadata": {
        "id": "diw8Y9CKe769"
      }
    },
    {
      "cell_type": "code",
      "source": [
        "def dayofweek(x):\n",
        "    return x.weekday()"
      ],
      "metadata": {
        "ExecuteTime": {
          "end_time": "2019-10-14T18:26:53.813436Z",
          "start_time": "2019-10-14T18:26:53.809447Z"
        },
        "id": "4_SQpI0Fe769"
      },
      "execution_count": 26,
      "outputs": []
    },
    {
      "cell_type": "code",
      "source": [
        "data_df['day_of_week'] = data_df['pickup_datetime'].apply(dayofweek)"
      ],
      "metadata": {
        "ExecuteTime": {
          "end_time": "2019-10-14T18:26:53.93957Z",
          "start_time": "2019-10-14T18:26:53.929567Z"
        },
        "id": "zIMlrry1e76-"
      },
      "execution_count": 27,
      "outputs": []
    },
    {
      "cell_type": "code",
      "source": [
        "sns.boxenplot(x='day_of_week', y='trip_duration', data=data_df)"
      ],
      "metadata": {
        "ExecuteTime": {
          "end_time": "2019-10-14T18:26:54.211835Z",
          "start_time": "2019-10-14T18:26:54.061215Z"
        },
        "colab": {
          "base_uri": "https://localhost:8080/",
          "height": 467
        },
        "id": "ai5Ipe_7e76-",
        "outputId": "e01334b9-af79-493b-b49a-21f0d68f7008"
      },
      "execution_count": 28,
      "outputs": [
        {
          "output_type": "execute_result",
          "data": {
            "text/plain": [
              "<Axes: xlabel='day_of_week', ylabel='trip_duration'>"
            ]
          },
          "metadata": {},
          "execution_count": 28
        },
        {
          "output_type": "display_data",
          "data": {
            "text/plain": [
              "<Figure size 640x480 with 1 Axes>"
            ],
            "image/png": "[encoded data removed]"
          },
          "metadata": {}
        }
      ]
    },
    {
      "cell_type": "markdown",
      "source": [
        "Will see with and without this feature."
      ],
      "metadata": {
        "id": "h82addAue76-"
      }
    },
    {
      "cell_type": "markdown",
      "source": [
        "### Distance"
      ],
      "metadata": {
        "id": "-qdh-TEqe76-"
      }
    },
    {
      "cell_type": "code",
      "source": [
        "distance.distance((data_df['pickup_latitude'].iloc[0],\n",
        "                  data_df['pickup_longitude'].iloc[0]),\n",
        "                 (data_df['dropoff_latitude'].iloc[0],\n",
        "                 data_df['dropoff_longitude'].iloc[0])).m"
      ],
      "metadata": {
        "ExecuteTime": {
          "end_time": "2019-10-14T18:26:54.336479Z",
          "start_time": "2019-10-14T18:26:54.331492Z"
        },
        "colab": {
          "base_uri": "https://localhost:8080/"
        },
        "id": "bHvfR2_5e76-",
        "outputId": "99536852-4e43-44e3-e233-bcc8d9d1b161"
      },
      "execution_count": 29,
      "outputs": [
        {
          "output_type": "execute_result",
          "data": {
            "text/plain": [
              "1502.1718368830568"
            ]
          },
          "metadata": {},
          "execution_count": 29
        }
      ]
    },
    {
      "cell_type": "code",
      "source": [
        "def dist(x):\n",
        "   return distance.distance((x[0], x[1]),\n",
        "                 (x[2], x[3])).m"
      ],
      "metadata": {
        "ExecuteTime": {
          "end_time": "2019-10-14T18:26:54.460167Z",
          "start_time": "2019-10-14T18:26:54.45718Z"
        },
        "id": "0GY2TnJXe76-"
      },
      "execution_count": 30,
      "outputs": []
    },
    {
      "cell_type": "code",
      "source": [
        "#data_df['dist'] = data_df[['pickup_latitude',\n",
        "         ##'pickup_longitude',\n",
        "         #'dropoff_latitude',\n",
        "         #'dropoff_longitude']].apply(lambda x:dist(x), axis=1)#\n",
        "\n",
        "import numpy as np\n",
        "from geopy.distance import geodesic\n",
        "\n",
        "def dist(row):\n",
        "    if np.isnan(row).any():\n",
        "        return np.nan\n",
        "    else:\n",
        "        pickup_coords = (row['pickup_latitude'], row['pickup_longitude'])\n",
        "        dropoff_coords = (row['dropoff_latitude'], row['dropoff_longitude'])\n",
        "        return geodesic(pickup_coords, dropoff_coords).miles\n",
        "\n",
        "data_df['dist'] = data_df[['pickup_latitude', 'pickup_longitude', 'dropoff_latitude', 'dropoff_longitude']].apply(lambda x: dist(x), axis=1)\n"
      ],
      "metadata": {
        "ExecuteTime": {
          "end_time": "2019-10-14T18:26:55.559254Z",
          "start_time": "2019-10-14T18:26:54.578853Z"
        },
        "id": "noVl0wlfe76_"
      },
      "execution_count": 31,
      "outputs": []
    },
    {
      "cell_type": "code",
      "source": [
        "sns.distplot(data_df['dist'], bins=1000)"
      ],
      "metadata": {
        "ExecuteTime": {
          "end_time": "2019-10-14T18:26:57.092144Z",
          "start_time": "2019-10-14T18:26:55.688863Z"
        },
        "colab": {
          "base_uri": "https://localhost:8080/",
          "height": 657
        },
        "id": "W4O_2Yfxe76_",
        "outputId": "155e6e20-146c-4e26-f785-5e277c0a13c8"
      },
      "execution_count": 32,
      "outputs": [
        {
          "output_type": "stream",
          "name": "stderr",
          "text": [
            "<ipython-input-32-7686b5b2c7ee>:1: UserWarning: \n",
            "\n",
            "`distplot` is a deprecated function and will be removed in seaborn v0.14.0.\n",
            "\n",
            "Please adapt your code to use either `displot` (a figure-level function with\n",
            "similar flexibility) or `histplot` (an axes-level function for histograms).\n",
            "\n",
            "For a guide to updating your code to use the new functions, please see\n",
            "https://gist.github.com/mwaskom/de44147ed2974457ad6372750bbe5751\n",
            "\n",
            "  sns.distplot(data_df['dist'], bins=1000)\n"
          ]
        },
        {
          "output_type": "execute_result",
          "data": {
            "text/plain": [
              "<Axes: xlabel='dist', ylabel='Density'>"
            ]
          },
          "metadata": {},
          "execution_count": 32
        },
        {
          "output_type": "display_data",
          "data": {
            "text/plain": [
              "<Figure size 640x480 with 1 Axes>"
            ],
            "image/png": "[encoded data removed]"
          },
          "metadata": {}
        }
      ]
    },
    {
      "cell_type": "code",
      "source": [
        "data_df[(data_df['pickup_latitude']==data_df['dropoff_latitude']) &\n",
        "        (data_df['pickup_longitude']==data_df['dropoff_longitude'])].count()"
      ],
      "metadata": {
        "ExecuteTime": {
          "end_time": "2019-10-14T18:37:09.679304Z",
          "start_time": "2019-10-14T18:37:09.671326Z"
        },
        "colab": {
          "base_uri": "https://localhost:8080/"
        },
        "id": "pgycKpIIe76_",
        "outputId": "fc3c1cb5-6241-409b-ca69-f66f131dbabd"
      },
      "execution_count": 33,
      "outputs": [
        {
          "output_type": "execute_result",
          "data": {
            "text/plain": [
              "id                    1757\n",
              "vendor_id             1757\n",
              "pickup_datetime       1757\n",
              "dropoff_datetime      1757\n",
              "passenger_count       1757\n",
              "pickup_longitude      1757\n",
              "pickup_latitude       1757\n",
              "dropoff_longitude     1757\n",
              "dropoff_latitude      1757\n",
              "store_and_fwd_flag    1757\n",
              "trip_duration         1757\n",
              "day_of_week           1757\n",
              "dist                  1757\n",
              "dtype: int64"
            ]
          },
          "metadata": {},
          "execution_count": 33
        }
      ]
    },
    {
      "cell_type": "markdown",
      "source": [
        "There are data with same pickup and drop location, so we will replace dist 0 with 1, and then take log of it."
      ],
      "metadata": {
        "id": "OBY6lWtFe76_"
      }
    },
    {
      "cell_type": "code",
      "source": [
        "#data_df.drop(data_df[(data_df['pickup_latitude']==data_df['dropoff_latitude']) &\n",
        "#        (data_df['pickup_longitude']==data_df['dropoff_longitude'])].index,\n",
        "#            inplace=True)"
      ],
      "metadata": {
        "ExecuteTime": {
          "end_time": "2019-10-14T17:45:02.565592Z",
          "start_time": "2019-10-14T17:45:02.365364Z"
        },
        "id": "0alahWyxe76_"
      },
      "execution_count": 34,
      "outputs": []
    },
    {
      "cell_type": "code",
      "source": [
        "data_df['dist'].replace(to_replace=0, value=1, inplace=True)"
      ],
      "metadata": {
        "ExecuteTime": {
          "end_time": "2019-10-14T18:30:14.169879Z",
          "start_time": "2019-10-14T18:30:14.164892Z"
        },
        "id": "3BF_N9xfe77A"
      },
      "execution_count": 35,
      "outputs": []
    },
    {
      "cell_type": "code",
      "source": [
        "#log\n",
        "data_df['dist'] = data_df['dist'].apply(math.log)"
      ],
      "metadata": {
        "ExecuteTime": {
          "end_time": "2019-10-14T18:30:15.648019Z",
          "start_time": "2019-10-14T18:30:15.643053Z"
        },
        "id": "ESCP-qfme77A"
      },
      "execution_count": 36,
      "outputs": []
    },
    {
      "cell_type": "code",
      "source": [
        "sns.distplot(data_df['dist'], bins=1000)"
      ],
      "metadata": {
        "ExecuteTime": {
          "end_time": "2019-10-14T18:31:33.972189Z",
          "start_time": "2019-10-14T18:31:32.58789Z"
        },
        "colab": {
          "base_uri": "https://localhost:8080/",
          "height": 662
        },
        "id": "r9vZkkmXe77A",
        "outputId": "52a6de66-fc07-4103-b90b-f5fd6ba8e7f0"
      },
      "execution_count": 37,
      "outputs": [
        {
          "output_type": "stream",
          "name": "stderr",
          "text": [
            "<ipython-input-37-7686b5b2c7ee>:1: UserWarning: \n",
            "\n",
            "`distplot` is a deprecated function and will be removed in seaborn v0.14.0.\n",
            "\n",
            "Please adapt your code to use either `displot` (a figure-level function with\n",
            "similar flexibility) or `histplot` (an axes-level function for histograms).\n",
            "\n",
            "For a guide to updating your code to use the new functions, please see\n",
            "https://gist.github.com/mwaskom/de44147ed2974457ad6372750bbe5751\n",
            "\n",
            "  sns.distplot(data_df['dist'], bins=1000)\n"
          ]
        },
        {
          "output_type": "execute_result",
          "data": {
            "text/plain": [
              "<Axes: xlabel='dist', ylabel='Density'>"
            ]
          },
          "metadata": {},
          "execution_count": 37
        },
        {
          "output_type": "display_data",
          "data": {
            "text/plain": [
              "<Figure size 640x480 with 1 Axes>"
            ],
            "image/png": "[encoded data removed]"
          },
          "metadata": {}
        }
      ]
    },
    {
      "cell_type": "markdown",
      "source": [
        "### Time Conversion"
      ],
      "metadata": {
        "id": "GQ_irZARe77A"
      }
    },
    {
      "cell_type": "code",
      "source": [
        "#currently handling data only day wise\n",
        "MAX_SECONDS_IN_DAY = 24*60*60\n",
        "def timetosectosincosday(x):\n",
        "    #x = datetime.strptime(x, \"%Y-%m-%d %H:%M:%S\")\n",
        "    initial_date = datetime(x.year, x.month, x.day, 0 , 0, 0) # 1 is for day\n",
        "    sec = (x-initial_date).total_seconds()\n",
        "    sin = math.sin(2*math.pi*(sec/MAX_SECONDS_IN_DAY))\n",
        "    cos = math.cos(2*math.pi*(sec/MAX_SECONDS_IN_DAY))\n",
        "    return sin, cos"
      ],
      "metadata": {
        "ExecuteTime": {
          "end_time": "2019-10-14T18:31:46.897053Z",
          "start_time": "2019-10-14T18:31:46.893057Z"
        },
        "id": "xpsee925e77A"
      },
      "execution_count": 38,
      "outputs": []
    },
    {
      "cell_type": "code",
      "source": [
        "data_df['pickup_sin_sec'] ,data_df['pickup_cos_sec'] = zip(*data_df['pickup_datetime'].map(timetosectosincosday))"
      ],
      "metadata": {
        "ExecuteTime": {
          "end_time": "2019-10-14T18:31:47.156541Z",
          "start_time": "2019-10-14T18:31:47.083706Z"
        },
        "id": "RdnQUlfSe77B"
      },
      "execution_count": 39,
      "outputs": []
    },
    {
      "cell_type": "code",
      "source": [
        "#data day of week\n",
        "MAX_DAY_IN_WEEK = 6 # from 0-6\n",
        "def dayofweektosincosday(day):\n",
        "    #x = datetime.strptime(x, \"%Y-%m-%d %H:%M:%S\")\n",
        "    sin = math.sin(2*math.pi*(day/MAX_DAY_IN_WEEK))\n",
        "    cos = math.cos(2*math.pi*(day/MAX_DAY_IN_WEEK))\n",
        "    return sin, cos"
      ],
      "metadata": {
        "ExecuteTime": {
          "end_time": "2019-10-14T18:31:47.288159Z",
          "start_time": "2019-10-14T18:31:47.284171Z"
        },
        "id": "gnUrsqeCe77B"
      },
      "execution_count": 40,
      "outputs": []
    },
    {
      "cell_type": "code",
      "source": [
        "data_df['sin_day'] ,data_df['cos_day'] = zip(*data_df['day_of_week'].map(dayofweektosincosday))"
      ],
      "metadata": {
        "ExecuteTime": {
          "end_time": "2019-10-14T18:31:47.457707Z",
          "start_time": "2019-10-14T18:31:47.44873Z"
        },
        "id": "7msFh5Uie77B"
      },
      "execution_count": 41,
      "outputs": []
    },
    {
      "cell_type": "markdown",
      "source": [
        "# Normalize"
      ],
      "metadata": {
        "id": "X9NTvwqae77B"
      }
    },
    {
      "cell_type": "code",
      "source": [
        "df_processed =  data_df[['vendor_id',\n",
        "                        'passenger_count',\n",
        "                        'pickup_sin_sec',\n",
        "                        'pickup_cos_sec',\n",
        "                        'pickup_longitude',\n",
        "                        'pickup_latitude',\n",
        "                        'dropoff_longitude',\n",
        "                        'dropoff_latitude',\n",
        "                        'sin_day',\n",
        "                        'cos_day',\n",
        "                        'dist',\n",
        "                        'trip_duration']]"
      ],
      "metadata": {
        "ExecuteTime": {
          "end_time": "2019-10-14T18:31:47.833728Z",
          "start_time": "2019-10-14T18:31:47.82872Z"
        },
        "id": "YmgWAkfje77B"
      },
      "execution_count": 42,
      "outputs": []
    },
    {
      "cell_type": "code",
      "source": [
        "X = data_df[['vendor_id',\n",
        "            'passenger_count',\n",
        "            'pickup_sin_sec',\n",
        "            'pickup_cos_sec',\n",
        "            'pickup_longitude',\n",
        "            'pickup_latitude',\n",
        "            'dropoff_longitude',\n",
        "            'dropoff_latitude',\n",
        "            'sin_day',\n",
        "            'cos_day',\n",
        "            'dist']]"
      ],
      "metadata": {
        "ExecuteTime": {
          "end_time": "2019-10-14T18:31:48.48908Z",
          "start_time": "2019-10-14T18:31:48.485086Z"
        },
        "id": "5Nux8zTBe77C"
      },
      "execution_count": 43,
      "outputs": []
    },
    {
      "cell_type": "code",
      "source": [
        "y = data_df[['trip_duration']]"
      ],
      "metadata": {
        "ExecuteTime": {
          "end_time": "2019-10-14T18:31:48.691559Z",
          "start_time": "2019-10-14T18:31:48.688563Z"
        },
        "id": "KWOYnUwMe77C"
      },
      "execution_count": 44,
      "outputs": []
    },
    {
      "cell_type": "code",
      "source": [
        "standardScalarX = StandardScaler().fit(X)\n",
        "X  = standardScalarX.transform(X)"
      ],
      "metadata": {
        "ExecuteTime": {
          "end_time": "2019-10-14T18:31:49.051857Z",
          "start_time": "2019-10-14T18:31:49.044852Z"
        },
        "id": "YAbU5z9qe77C"
      },
      "execution_count": 45,
      "outputs": []
    },
    {
      "cell_type": "code",
      "source": [
        "\n",
        "standardScalarY = StandardScaler().fit(y)\n",
        "y = standardScalarY.transform(y)"
      ],
      "metadata": {
        "ExecuteTime": {
          "end_time": "2019-10-14T18:31:49.263643Z",
          "start_time": "2019-10-14T18:31:49.258657Z"
        },
        "id": "u5mkX4MKe77C"
      },
      "execution_count": 46,
      "outputs": []
    },
    {
      "cell_type": "code",
      "source": [
        "X.shape, y.shape"
      ],
      "metadata": {
        "ExecuteTime": {
          "end_time": "2019-10-14T18:31:49.567265Z",
          "start_time": "2019-10-14T18:31:49.563276Z"
        },
        "colab": {
          "base_uri": "https://localhost:8080/"
        },
        "id": "TbEzAP3he77D",
        "outputId": "81672e68-2abc-4071-aa4b-5a6f04de35ef"
      },
      "execution_count": 47,
      "outputs": [
        {
          "data": {
            "text/plain": [
              "((426988, 11), (426988, 1))"
            ]
          },
          "execution_count": 47,
          "metadata": {},
          "output_type": "execute_result"
        }
      ]
    },
    {
      "cell_type": "markdown",
      "source": [
        "# Model"
      ],
      "metadata": {
        "id": "UEGxjP--e77D"
      }
    },
    {
      "cell_type": "code",
      "source": [
        "model = Sequential()\n",
        "model.add(Dense(128, activation = 'relu',input_shape=(X.shape[1],)))\n",
        "model.add(Dense(128, activation = 'relu'))\n",
        "model.add(Dense(64, activation = 'relu'))\n",
        "model.add(Dense(64, activation = 'relu'))\n",
        "model.add(Dense(1))"
      ],
      "metadata": {
        "ExecuteTime": {
          "end_time": "2019-10-14T18:31:50.497479Z",
          "start_time": "2019-10-14T18:31:50.437555Z"
        },
        "id": "lR9SBKb2e77D"
      },
      "execution_count": 48,
      "outputs": []
    },
    {
      "cell_type": "code",
      "source": [],
      "metadata": {
        "id": "mTJAMaDHEv1A"
      },
      "execution_count": 48,
      "outputs": []
    },
    {
      "cell_type": "code",
      "source": [
        "model.compile(optimizer=Adam(lr=0.00001),\n",
        "              metrics=['mean_squared_error'],\n",
        "              loss='mean_squared_error')"
      ],
      "metadata": {
        "ExecuteTime": {
          "end_time": "2019-10-14T18:31:50.937337Z",
          "start_time": "2019-10-14T18:31:50.906322Z"
        },
        "colab": {
          "base_uri": "https://localhost:8080/"
        },
        "id": "OaPAM_fWe77E",
        "outputId": "d5c8f024-8469-47ab-f701-5d5b82e06136"
      },
      "execution_count": 49,
      "outputs": [
        {
          "output_type": "stream",
          "name": "stderr",
          "text": [
            "WARNING:absl:`lr` is deprecated in Keras optimizer, please use `learning_rate` or use the legacy optimizer, e.g.,tf.keras.optimizers.legacy.Adam.\n"
          ]
        }
      ]
    },
    {
      "cell_type": "code",
      "source": [
        "#filepath=\"weights-improvement-{epoch:02d}-{val_acc:.2f}.hdf5\"\n",
        "filepath=\"weights.best.hdf5\"\n",
        "checkpoint = ModelCheckpoint(filepath, monitor='mean_squared_error', verbose=1, save_best_only=True, mode='max')\n",
        "callbacks_list = [checkpoint]"
      ],
      "metadata": {
        "ExecuteTime": {
          "end_time": "2019-10-14T18:31:51.115003Z",
          "start_time": "2019-10-14T18:31:51.111041Z"
        },
        "id": "EPkdEvIAe77E"
      },
      "execution_count": 50,
      "outputs": []
    },
    {
      "cell_type": "code",
      "source": [
        "history = model.fit(X, y,\n",
        "                   batch_size=32,\n",
        "                   validation_split=0.2,\n",
        "                   epochs=2,\n",
        "                   callbacks=callbacks_list)"
      ],
      "metadata": {
        "ExecuteTime": {
          "end_time": "2019-10-14T18:31:53.390481Z",
          "start_time": "2019-10-14T18:31:51.856314Z"
        },
        "colab": {
          "base_uri": "https://localhost:8080/"
        },
        "id": "3bnw3Du6e77E",
        "outputId": "0fda622b-df8e-4f74-c320-f8dc7677e173"
      },
      "execution_count": 51,
      "outputs": [
        {
          "output_type": "stream",
          "name": "stdout",
          "text": [
            "Epoch 1/2\n",
            "10668/10675 [============================>.] - ETA: 0s - loss: 0.3331 - mean_squared_error: 0.3331\n",
            "Epoch 1: mean_squared_error improved from -inf to 0.33310, saving model to weights.best.hdf5\n",
            "10675/10675 [==============================] - 23s 2ms/step - loss: 0.3331 - mean_squared_error: 0.3331 - val_loss: nan - val_mean_squared_error: nan\n",
            "Epoch 2/2\n",
            "  101/10675 [..............................] - ETA: 16s - loss: 0.2266 - mean_squared_error: 0.2266"
          ]
        },
        {
          "output_type": "stream",
          "name": "stderr",
          "text": [
            "/usr/local/lib/python3.10/dist-packages/keras/src/engine/training.py:3079: UserWarning: You are saving your model as an HDF5 file via `model.save()`. This file format is considered legacy. We recommend using instead the native Keras format, e.g. `model.save('my_model.keras')`.\n",
            "  saving_api.save_model(\n"
          ]
        },
        {
          "output_type": "stream",
          "name": "stdout",
          "text": [
            "10643/10675 [============================>.] - ETA: 0s - loss: 0.3024 - mean_squared_error: 0.3024\n",
            "Epoch 2: mean_squared_error did not improve from 0.33310\n",
            "10675/10675 [==============================] - 19s 2ms/step - loss: 0.3025 - mean_squared_error: 0.3025 - val_loss: nan - val_mean_squared_error: nan\n"
          ]
        }
      ]
    },
    {
      "cell_type": "code",
      "source": [
        "history.history.keys()"
      ],
      "metadata": {
        "ExecuteTime": {
          "end_time": "2019-10-14T18:31:53.521152Z",
          "start_time": "2019-10-14T18:31:53.517138Z"
        },
        "colab": {
          "base_uri": "https://localhost:8080/"
        },
        "id": "RbUvxRa_e77E",
        "outputId": "ed7a9784-867c-4f46-c112-de5c5e566626"
      },
      "execution_count": 73,
      "outputs": [
        {
          "output_type": "execute_result",
          "data": {
            "text/plain": [
              "dict_keys(['loss', 'mean_squared_error', 'val_loss', 'val_mean_squared_error'])"
            ]
          },
          "metadata": {},
          "execution_count": 73
        }
      ]
    },
    {
      "cell_type": "code",
      "source": [
        "plt.plot(history.history['loss'])\n",
        "plt.plot(history.history['val_loss'])\n",
        "plt.title(\"Model Loss\")\n",
        "plt.xlabel(\"Epochs\")\n",
        "plt.ylabel(\"Loss\")\n",
        "plt.legend([\"train\", \"validation\"])\n",
        "plt.savefig('loss.png')"
      ],
      "metadata": {
        "ExecuteTime": {
          "end_time": "2019-10-14T18:31:55.683145Z",
          "start_time": "2019-10-14T18:31:55.556509Z"
        },
        "colab": {
          "base_uri": "https://localhost:8080/",
          "height": 472
        },
        "id": "HusTuCo3e77F",
        "outputId": "d284e826-6f2c-4f25-d675-49c01aa7c99c"
      },
      "execution_count": 74,
      "outputs": [
        {
          "output_type": "display_data",
          "data": {
            "text/plain": [
              "<Figure size 640x480 with 1 Axes>"
            ],
            "image/png": "[encoded data removed]"
          },
          "metadata": {}
        }
      ]
    },
    {
      "cell_type": "code",
      "source": [
        "model.save('model.hdf5')"
      ],
      "metadata": {
        "ExecuteTime": {
          "end_time": "2019-10-14T18:31:58.224844Z",
          "start_time": "2019-10-14T18:31:58.129409Z"
        },
        "id": "Y509ZaMye77F"
      },
      "execution_count": 75,
      "outputs": []
    },
    {
      "cell_type": "markdown",
      "source": [
        "# Test Set"
      ],
      "metadata": {
        "id": "5iPzzzSRe77F"
      }
    },
    {
      "cell_type": "code",
      "source": [],
      "metadata": {
        "ExecuteTime": {
          "end_time": "2019-10-14T18:32:00.428637Z",
          "start_time": "2019-10-14T18:32:00.416646Z"
        },
        "id": "txDbEduye77F"
      },
      "execution_count": null,
      "outputs": []
    },
    {
      "cell_type": "code",
      "source": [
        "test_df = pd.read_csv(\"test.csv\")"
      ],
      "metadata": {
        "ExecuteTime": {
          "end_time": "2019-10-14T18:32:01.56173Z",
          "start_time": "2019-10-14T18:32:00.620246Z"
        },
        "id": "3dD3vy2fe77F"
      },
      "execution_count": 76,
      "outputs": []
    },
    {
      "cell_type": "code",
      "source": [
        "test_df.head()"
      ],
      "metadata": {
        "ExecuteTime": {
          "end_time": "2019-10-14T18:32:01.730278Z",
          "start_time": "2019-10-14T18:32:01.716315Z"
        },
        "colab": {
          "base_uri": "https://localhost:8080/",
          "height": 313
        },
        "id": "4ru1g48Te77F",
        "outputId": "83a24dd4-499c-4235-e9bf-078040fa8077"
      },
      "execution_count": 88,
      "outputs": [
        {
          "output_type": "execute_result",
          "data": {
            "text/plain": [
              "          id  vendor_id      pickup_datetime  passenger_count  \\\n",
              "0  id3004672          1  2016-06-30 23:59:58                1   \n",
              "1  id3505355          1  2016-06-30 23:59:53                1   \n",
              "2  id1217141          1  2016-06-30 23:59:47                1   \n",
              "3  id2150126          2  2016-06-30 23:59:41                1   \n",
              "4  id1598245          1  2016-06-30 23:59:33                1   \n",
              "\n",
              "   pickup_longitude  pickup_latitude  dropoff_longitude  dropoff_latitude  \\\n",
              "0        -73.988129        40.732029         -73.990173         40.756680   \n",
              "1        -73.964203        40.679993         -73.959808         40.655403   \n",
              "2        -73.997437        40.737583         -73.986160         40.729523   \n",
              "3        -73.956070        40.771900         -73.986427         40.730469   \n",
              "4        -73.970215        40.761475         -73.961510         40.755890   \n",
              "\n",
              "  store_and_fwd_flag  \n",
              "0                  N  \n",
              "1                  N  \n",
              "2                  N  \n",
              "3                  N  \n",
              "4                  N  "
            ],
            "text/html": [
              "\n",
              "  <div id=\"df-03c18efc-da93-477f-9c24-fbe777111f78\" class=\"colab-df-container\">\n",
              "    <div>\n",
              "<style scoped>\n",
              "    .dataframe tbody tr th:only-of-type {\n",
              "        vertical-align: middle;\n",
              "    }\n",
              "\n",
              "    .dataframe tbody tr th {\n",
              "        vertical-align: top;\n",
              "    }\n",
              "\n",
              "    .dataframe thead th {\n",
              "        text-align: right;\n",
              "    }\n",
              "</style>\n",
              "<table border=\"1\" class=\"dataframe\">\n",
              "  <thead>\n",
              "    <tr style=\"text-align: right;\">\n",
              "      <th></th>\n",
              "      <th>id</th>\n",
              "      <th>vendor_id</th>\n",
              "      <th>pickup_datetime</th>\n",
              "      <th>passenger_count</th>\n",
              "      <th>pickup_longitude</th>\n",
              "      <th>pickup_latitude</th>\n",
              "      <th>dropoff_longitude</th>\n",
              "      <th>dropoff_latitude</th>\n",
              "      <th>store_and_fwd_flag</th>\n",
              "    </tr>\n",
              "  </thead>\n",
              "  <tbody>\n",
              "    <tr>\n",
              "      <th>0</th>\n",
              "      <td>id3004672</td>\n",
              "      <td>1</td>\n",
              "      <td>2016-06-30 23:59:58</td>\n",
              "      <td>1</td>\n",
              "      <td>-73.988129</td>\n",
              "      <td>40.732029</td>\n",
              "      <td>-73.990173</td>\n",
              "      <td>40.756680</td>\n",
              "      <td>N</td>\n",
              "    </tr>\n",
              "    <tr>\n",
              "      <th>1</th>\n",
              "      <td>id3505355</td>\n",
              "      <td>1</td>\n",
              "      <td>2016-06-30 23:59:53</td>\n",
              "      <td>1</td>\n",
              "      <td>-73.964203</td>\n",
              "      <td>40.679993</td>\n",
              "      <td>-73.959808</td>\n",
              "      <td>40.655403</td>\n",
              "      <td>N</td>\n",
              "    </tr>\n",
              "    <tr>\n",
              "      <th>2</th>\n",
              "      <td>id1217141</td>\n",
              "      <td>1</td>\n",
              "      <td>2016-06-30 23:59:47</td>\n",
              "      <td>1</td>\n",
              "      <td>-73.997437</td>\n",
              "      <td>40.737583</td>\n",
              "      <td>-73.986160</td>\n",
              "      <td>40.729523</td>\n",
              "      <td>N</td>\n",
              "    </tr>\n",
              "    <tr>\n",
              "      <th>3</th>\n",
              "      <td>id2150126</td>\n",
              "      <td>2</td>\n",
              "      <td>2016-06-30 23:59:41</td>\n",
              "      <td>1</td>\n",
              "      <td>-73.956070</td>\n",
              "      <td>40.771900</td>\n",
              "      <td>-73.986427</td>\n",
              "      <td>40.730469</td>\n",
              "      <td>N</td>\n",
              "    </tr>\n",
              "    <tr>\n",
              "      <th>4</th>\n",
              "      <td>id1598245</td>\n",
              "      <td>1</td>\n",
              "      <td>2016-06-30 23:59:33</td>\n",
              "      <td>1</td>\n",
              "      <td>-73.970215</td>\n",
              "      <td>40.761475</td>\n",
              "      <td>-73.961510</td>\n",
              "      <td>40.755890</td>\n",
              "      <td>N</td>\n",
              "    </tr>\n",
              "  </tbody>\n",
              "</table>\n",
              "</div>\n",
              "    <div class=\"colab-df-buttons\">\n",
              "\n",
              "  <div class=\"colab-df-container\">\n",
              "    <button class=\"colab-df-convert\" onclick=\"convertToInteractive('df-03c18efc-da93-477f-9c24-fbe777111f78')\"\n",
              "            title=\"Convert this dataframe to an interactive table.\"\n",
              "            style=\"display:none;\">\n",
              "\n",
              "  <svg xmlns=\"http://www.w3.org/2000/svg\" height=\"24px\" viewBox=\"0 -960 960 960\">\n",
              "    <path d=\"M120-120v-720h720v720H120Zm60-500h600v-160H180v160Zm220 220h160v-160H400v160Zm0 220h160v-160H400v160ZM180-400h160v-160H180v160Zm440 0h160v-160H620v160ZM180-180h160v-160H180v160Zm440 0h160v-160H620v160Z\"/>\n",
              "  </svg>\n",
              "    </button>\n",
              "\n",
              "  <style>\n",
              "    .colab-df-container {\n",
              "      display:flex;\n",
              "      gap: 12px;\n",
              "    }\n",
              "\n",
              "    .colab-df-convert {\n",
              "      background-color: #E8F0FE;\n",
              "      border: none;\n",
              "      border-radius: 50%;\n",
              "      cursor: pointer;\n",
              "      display: none;\n",
              "      fill: #1967D2;\n",
              "      height: 32px;\n",
              "      padding: 0 0 0 0;\n",
              "      width: 32px;\n",
              "    }\n",
              "\n",
              "    .colab-df-convert:hover {\n",
              "      background-color: #E2EBFA;\n",
              "      box-shadow: 0px 1px 2px rgba(60, 64, 67, 0.3), 0px 1px 3px 1px rgba(60, 64, 67, 0.15);\n",
              "      fill: #174EA6;\n",
              "    }\n",
              "\n",
              "    .colab-df-buttons div {\n",
              "      margin-bottom: 4px;\n",
              "    }\n",
              "\n",
              "    [theme=dark] .colab-df-convert {\n",
              "      background-color: #3B4455;\n",
              "      fill: #D2E3FC;\n",
              "    }\n",
              "\n",
              "    [theme=dark] .colab-df-convert:hover {\n",
              "      background-color: #434B5C;\n",
              "      box-shadow: 0px 1px 3px 1px rgba(0, 0, 0, 0.15);\n",
              "      filter: drop-shadow(0px 1px 2px rgba(0, 0, 0, 0.3));\n",
              "      fill: #FFFFFF;\n",
              "    }\n",
              "  </style>\n",
              "\n",
              "    <script>\n",
              "      const buttonEl =\n",
              "        document.querySelector('#df-03c18efc-da93-477f-9c24-fbe777111f78 button.colab-df-convert');\n",
              "      buttonEl.style.display =\n",
              "        google.colab.kernel.accessAllowed ? 'block' : 'none';\n",
              "\n",
              "      async function convertToInteractive(key) {\n",
              "        const element = document.querySelector('#df-03c18efc-da93-477f-9c24-fbe777111f78');\n",
              "        const dataTable =\n",
              "          await google.colab.kernel.invokeFunction('convertToInteractive',\n",
              "                                                    [key], {});\n",
              "        if (!dataTable) return;\n",
              "\n",
              "        const docLinkHtml = 'Like what you see? Visit the ' +\n",
              "          '<a target=\"_blank\" href=https://colab.research.google.com/notebooks/data_table.ipynb>data table notebook</a>'\n",
              "          + ' to learn more about interactive tables.';\n",
              "        element.innerHTML = '';\n",
              "        dataTable['output_type'] = 'display_data';\n",
              "        await google.colab.output.renderOutput(dataTable, element);\n",
              "        const docLink = document.createElement('div');\n",
              "        docLink.innerHTML = docLinkHtml;\n",
              "        element.appendChild(docLink);\n",
              "      }\n",
              "    </script>\n",
              "  </div>\n",
              "\n",
              "\n",
              "<div id=\"df-b47dbeca-88f9-4c91-b060-f3c61a3a9c2e\">\n",
              "  <button class=\"colab-df-quickchart\" onclick=\"quickchart('df-b47dbeca-88f9-4c91-b060-f3c61a3a9c2e')\"\n",
              "            title=\"Suggest charts.\"\n",
              "            style=\"display:none;\">\n",
              "\n",
              "<svg xmlns=\"http://www.w3.org/2000/svg\" height=\"24px\"viewBox=\"0 0 24 24\"\n",
              "     width=\"24px\">\n",
              "    <g>\n",
              "        <path d=\"M19 3H5c-1.1 0-2 .9-2 2v14c0 1.1.9 2 2 2h14c1.1 0 2-.9 2-2V5c0-1.1-.9-2-2-2zM9 17H7v-7h2v7zm4 0h-2V7h2v10zm4 0h-2v-4h2v4z\"/>\n",
              "    </g>\n",
              "</svg>\n",
              "  </button>\n",
              "\n",
              "<style>\n",
              "  .colab-df-quickchart {\n",
              "      --bg-color: #E8F0FE;\n",
              "      --fill-color: #1967D2;\n",
              "      --hover-bg-color: #E2EBFA;\n",
              "      --hover-fill-color: #174EA6;\n",
              "      --disabled-fill-color: #AAA;\n",
              "      --disabled-bg-color: #DDD;\n",
              "  }\n",
              "\n",
              "  [theme=dark] .colab-df-quickchart {\n",
              "      --bg-color: #3B4455;\n",
              "      --fill-color: #D2E3FC;\n",
              "      --hover-bg-color: #434B5C;\n",
              "      --hover-fill-color: #FFFFFF;\n",
              "      --disabled-bg-color: #3B4455;\n",
              "      --disabled-fill-color: #666;\n",
              "  }\n",
              "\n",
              "  .colab-df-quickchart {\n",
              "    background-color: var(--bg-color);\n",
              "    border: none;\n",
              "    border-radius: 50%;\n",
              "    cursor: pointer;\n",
              "    display: none;\n",
              "    fill: var(--fill-color);\n",
              "    height: 32px;\n",
              "    padding: 0;\n",
              "    width: 32px;\n",
              "  }\n",
              "\n",
              "  .colab-df-quickchart:hover {\n",
              "    background-color: var(--hover-bg-color);\n",
              "    box-shadow: 0 1px 2px rgba(60, 64, 67, 0.3), 0 1px 3px 1px rgba(60, 64, 67, 0.15);\n",
              "    fill: var(--button-hover-fill-color);\n",
              "  }\n",
              "\n",
              "  .colab-df-quickchart-complete:disabled,\n",
              "  .colab-df-quickchart-complete:disabled:hover {\n",
              "    background-color: var(--disabled-bg-color);\n",
              "    fill: var(--disabled-fill-color);\n",
              "    box-shadow: none;\n",
              "  }\n",
              "\n",
              "  .colab-df-spinner {\n",
              "    border: 2px solid var(--fill-color);\n",
              "    border-color: transparent;\n",
              "    border-bottom-color: var(--fill-color);\n",
              "    animation:\n",
              "      spin 1s steps(1) infinite;\n",
              "  }\n",
              "\n",
              "  @keyframes spin {\n",
              "    0% {\n",
              "      border-color: transparent;\n",
              "      border-bottom-color: var(--fill-color);\n",
              "      border-left-color: var(--fill-color);\n",
              "    }\n",
              "    20% {\n",
              "      border-color: transparent;\n",
              "      border-left-color: var(--fill-color);\n",
              "      border-top-color: var(--fill-color);\n",
              "    }\n",
              "    30% {\n",
              "      border-color: transparent;\n",
              "      border-left-color: var(--fill-color);\n",
              "      border-top-color: var(--fill-color);\n",
              "      border-right-color: var(--fill-color);\n",
              "    }\n",
              "    40% {\n",
              "      border-color: transparent;\n",
              "      border-right-color: var(--fill-color);\n",
              "      border-top-color: var(--fill-color);\n",
              "    }\n",
              "    60% {\n",
              "      border-color: transparent;\n",
              "      border-right-color: var(--fill-color);\n",
              "    }\n",
              "    80% {\n",
              "      border-color: transparent;\n",
              "      border-right-color: var(--fill-color);\n",
              "      border-bottom-color: var(--fill-color);\n",
              "    }\n",
              "    90% {\n",
              "      border-color: transparent;\n",
              "      border-bottom-color: var(--fill-color);\n",
              "    }\n",
              "  }\n",
              "</style>\n",
              "\n",
              "  <script>\n",
              "    async function quickchart(key) {\n",
              "      const quickchartButtonEl =\n",
              "        document.querySelector('#' + key + ' button');\n",
              "      quickchartButtonEl.disabled = true;  // To prevent multiple clicks.\n",
              "      quickchartButtonEl.classList.add('colab-df-spinner');\n",
              "      try {\n",
              "        const charts = await google.colab.kernel.invokeFunction(\n",
              "            'suggestCharts', [key], {});\n",
              "      } catch (error) {\n",
              "        console.error('Error during call to suggestCharts:', error);\n",
              "      }\n",
              "      quickchartButtonEl.classList.remove('colab-df-spinner');\n",
              "      quickchartButtonEl.classList.add('colab-df-quickchart-complete');\n",
              "    }\n",
              "    (() => {\n",
              "      let quickchartButtonEl =\n",
              "        document.querySelector('#df-b47dbeca-88f9-4c91-b060-f3c61a3a9c2e button');\n",
              "      quickchartButtonEl.style.display =\n",
              "        google.colab.kernel.accessAllowed ? 'block' : 'none';\n",
              "    })();\n",
              "  </script>\n",
              "</div>\n",
              "    </div>\n",
              "  </div>\n"
            ]
          },
          "metadata": {},
          "execution_count": 88
        }
      ]
    },
    {
      "cell_type": "markdown",
      "source": [
        "Feature Used\n",
        "**['vendor_id',\n",
        "            'passenger_count',\n",
        "            'pickup_sin_sec',\n",
        "            'pickup_cos_sec',\n",
        "            'pickup_longitude',\n",
        "            'pickup_latitude',\n",
        "            'dropoff_longitude',\n",
        "            'dropoff_latitude',\n",
        "            'sin_day',\n",
        "            'cos_day',\n",
        "            'dist']**"
      ],
      "metadata": {
        "id": "NMwCdZ-he77G"
      }
    },
    {
      "cell_type": "code",
      "source": [
        "test_df['pickup_datetime'] = test_df['pickup_datetime'].apply(strtodatetime)\n",
        "test_df['day_of_week'] = test_df['pickup_datetime'].apply(dayofweek)\n",
        "test_df['sin_day'] ,test_df['cos_day'] = zip(*test_df['day_of_week'].map(dayofweektosincosday))\n",
        "test_df['dist'] = test_df[['pickup_latitude',\n",
        "         'pickup_longitude',\n",
        "         'dropoff_latitude',\n",
        "         'dropoff_longitude']].apply(lambda x:dist(x), axis=1)\n",
        "test_df['dist'].replace(to_replace=0, value=1, inplace=True)\n",
        "test_df['dist'].replace(to_replace=0, value=1, inplace=True)\n",
        "#test_df['dist'] = test_df['dist'].apply(math.log)\n",
        "import math\n",
        "\n",
        "# Filter out non-positive or non-finite values before applying math.log\n",
        "test_df['dist'] = test_df['dist'].apply(lambda x: math.log(x) if x > 0 and math.isfinite(x) else None)\n",
        "test_df['pickup_sin_sec'] ,test_df['pickup_cos_sec'] = zip(*test_df['pickup_datetime'].map(timetosectosincosday))\n",
        "test_df_processed =  test_df[['vendor_id',\n",
        "                            'passenger_count',\n",
        "                            'pickup_sin_sec',\n",
        "                            'pickup_cos_sec',\n",
        "                            'pickup_longitude',\n",
        "                            'pickup_latitude',\n",
        "                            'dropoff_longitude',\n",
        "                            'dropoff_latitude',\n",
        "                            'sin_day',\n",
        "                            'cos_day',\n",
        "                            'dist']]\n",
        "test_data =  standardScalarX.transform(test_df_processed)\n",
        "y_pred = model.predict(test_data)\n",
        "y_pred =standardScalarY.inverse_transform(y_pred)\n",
        "y_pred = np.exp(y_pred)\n",
        "result = test_df[['id']]\n",
        "result['trip_duration'] = pd.DataFrame(data=y_pred, columns=['trip_duration'])\n",
        "result.head()"
      ],
      "metadata": {
        "ExecuteTime": {
          "end_time": "2019-10-14T18:32:07.894413Z",
          "start_time": "2019-10-14T18:32:02.855856Z"
        },
        "id": "o4h_NWcMe77G",
        "colab": {
          "base_uri": "https://localhost:8080/",
          "height": 348
        },
        "outputId": "e2b1d706-d501-4a51-8dd0-c85966f198d3"
      },
      "execution_count": 89,
      "outputs": [
        {
          "output_type": "stream",
          "name": "stdout",
          "text": [
            "19536/19536 [==============================] - 21s 1ms/step\n"
          ]
        },
        {
          "output_type": "stream",
          "name": "stderr",
          "text": [
            "<ipython-input-89-4a61425f4bbf>:32: SettingWithCopyWarning: \n",
            "A value is trying to be set on a copy of a slice from a DataFrame.\n",
            "Try using .loc[row_indexer,col_indexer] = value instead\n",
            "\n",
            "See the caveats in the documentation: https://pandas.pydata.org/pandas-docs/stable/user_guide/indexing.html#returning-a-view-versus-a-copy\n",
            "  result['trip_duration'] = pd.DataFrame(data=y_pred, columns=['trip_duration'])\n"
          ]
        },
        {
          "output_type": "execute_result",
          "data": {
            "text/plain": [
              "          id  trip_duration\n",
              "0  id3004672     668.076172\n",
              "1  id3505355     489.616821\n",
              "2  id1217141     423.223633\n",
              "3  id2150126     729.066101\n",
              "4  id1598245     334.088593"
            ],
            "text/html": [
              "\n",
              "  <div id=\"df-7b4ddfd8-d809-4f53-aeff-85d14051fdfa\" class=\"colab-df-container\">\n",
              "    <div>\n",
              "<style scoped>\n",
              "    .dataframe tbody tr th:only-of-type {\n",
              "        vertical-align: middle;\n",
              "    }\n",
              "\n",
              "    .dataframe tbody tr th {\n",
              "        vertical-align: top;\n",
              "    }\n",
              "\n",
              "    .dataframe thead th {\n",
              "        text-align: right;\n",
              "    }\n",
              "</style>\n",
              "<table border=\"1\" class=\"dataframe\">\n",
              "  <thead>\n",
              "    <tr style=\"text-align: right;\">\n",
              "      <th></th>\n",
              "      <th>id</th>\n",
              "      <th>trip_duration</th>\n",
              "    </tr>\n",
              "  </thead>\n",
              "  <tbody>\n",
              "    <tr>\n",
              "      <th>0</th>\n",
              "      <td>id3004672</td>\n",
              "      <td>668.076172</td>\n",
              "    </tr>\n",
              "    <tr>\n",
              "      <th>1</th>\n",
              "      <td>id3505355</td>\n",
              "      <td>489.616821</td>\n",
              "    </tr>\n",
              "    <tr>\n",
              "      <th>2</th>\n",
              "      <td>id1217141</td>\n",
              "      <td>423.223633</td>\n",
              "    </tr>\n",
              "    <tr>\n",
              "      <th>3</th>\n",
              "      <td>id2150126</td>\n",
              "      <td>729.066101</td>\n",
              "    </tr>\n",
              "    <tr>\n",
              "      <th>4</th>\n",
              "      <td>id1598245</td>\n",
              "      <td>334.088593</td>\n",
              "    </tr>\n",
              "  </tbody>\n",
              "</table>\n",
              "</div>\n",
              "    <div class=\"colab-df-buttons\">\n",
              "\n",
              "  <div class=\"colab-df-container\">\n",
              "    <button class=\"colab-df-convert\" onclick=\"convertToInteractive('df-7b4ddfd8-d809-4f53-aeff-85d14051fdfa')\"\n",
              "            title=\"Convert this dataframe to an interactive table.\"\n",
              "            style=\"display:none;\">\n",
              "\n",
              "  <svg xmlns=\"http://www.w3.org/2000/svg\" height=\"24px\" viewBox=\"0 -960 960 960\">\n",
              "    <path d=\"M120-120v-720h720v720H120Zm60-500h600v-160H180v160Zm220 220h160v-160H400v160Zm0 220h160v-160H400v160ZM180-400h160v-160H180v160Zm440 0h160v-160H620v160ZM180-180h160v-160H180v160Zm440 0h160v-160H620v160Z\"/>\n",
              "  </svg>\n",
              "    </button>\n",
              "\n",
              "  <style>\n",
              "    .colab-df-container {\n",
              "      display:flex;\n",
              "      gap: 12px;\n",
              "    }\n",
              "\n",
              "    .colab-df-convert {\n",
              "      background-color: #E8F0FE;\n",
              "      border: none;\n",
              "      border-radius: 50%;\n",
              "      cursor: pointer;\n",
              "      display: none;\n",
              "      fill: #1967D2;\n",
              "      height: 32px;\n",
              "      padding: 0 0 0 0;\n",
              "      width: 32px;\n",
              "    }\n",
              "\n",
              "    .colab-df-convert:hover {\n",
              "      background-color: #E2EBFA;\n",
              "      box-shadow: 0px 1px 2px rgba(60, 64, 67, 0.3), 0px 1px 3px 1px rgba(60, 64, 67, 0.15);\n",
              "      fill: #174EA6;\n",
              "    }\n",
              "\n",
              "    .colab-df-buttons div {\n",
              "      margin-bottom: 4px;\n",
              "    }\n",
              "\n",
              "    [theme=dark] .colab-df-convert {\n",
              "      background-color: #3B4455;\n",
              "      fill: #D2E3FC;\n",
              "    }\n",
              "\n",
              "    [theme=dark] .colab-df-convert:hover {\n",
              "      background-color: #434B5C;\n",
              "      box-shadow: 0px 1px 3px 1px rgba(0, 0, 0, 0.15);\n",
              "      filter: drop-shadow(0px 1px 2px rgba(0, 0, 0, 0.3));\n",
              "      fill: #FFFFFF;\n",
              "    }\n",
              "  </style>\n",
              "\n",
              "    <script>\n",
              "      const buttonEl =\n",
              "        document.querySelector('#df-7b4ddfd8-d809-4f53-aeff-85d14051fdfa button.colab-df-convert');\n",
              "      buttonEl.style.display =\n",
              "        google.colab.kernel.accessAllowed ? 'block' : 'none';\n",
              "\n",
              "      async function convertToInteractive(key) {\n",
              "        const element = document.querySelector('#df-7b4ddfd8-d809-4f53-aeff-85d14051fdfa');\n",
              "        const dataTable =\n",
              "          await google.colab.kernel.invokeFunction('convertToInteractive',\n",
              "                                                    [key], {});\n",
              "        if (!dataTable) return;\n",
              "\n",
              "        const docLinkHtml = 'Like what you see? Visit the ' +\n",
              "          '<a target=\"_blank\" href=https://colab.research.google.com/notebooks/data_table.ipynb>data table notebook</a>'\n",
              "          + ' to learn more about interactive tables.';\n",
              "        element.innerHTML = '';\n",
              "        dataTable['output_type'] = 'display_data';\n",
              "        await google.colab.output.renderOutput(dataTable, element);\n",
              "        const docLink = document.createElement('div');\n",
              "        docLink.innerHTML = docLinkHtml;\n",
              "        element.appendChild(docLink);\n",
              "      }\n",
              "    </script>\n",
              "  </div>\n",
              "\n",
              "\n",
              "<div id=\"df-a1e1c240-b08f-41d0-af0d-8caf8cd95518\">\n",
              "  <button class=\"colab-df-quickchart\" onclick=\"quickchart('df-a1e1c240-b08f-41d0-af0d-8caf8cd95518')\"\n",
              "            title=\"Suggest charts.\"\n",
              "            style=\"display:none;\">\n",
              "\n",
              "<svg xmlns=\"http://www.w3.org/2000/svg\" height=\"24px\"viewBox=\"0 0 24 24\"\n",
              "     width=\"24px\">\n",
              "    <g>\n",
              "        <path d=\"M19 3H5c-1.1 0-2 .9-2 2v14c0 1.1.9 2 2 2h14c1.1 0 2-.9 2-2V5c0-1.1-.9-2-2-2zM9 17H7v-7h2v7zm4 0h-2V7h2v10zm4 0h-2v-4h2v4z\"/>\n",
              "    </g>\n",
              "</svg>\n",
              "  </button>\n",
              "\n",
              "<style>\n",
              "  .colab-df-quickchart {\n",
              "      --bg-color: #E8F0FE;\n",
              "      --fill-color: #1967D2;\n",
              "      --hover-bg-color: #E2EBFA;\n",
              "      --hover-fill-color: #174EA6;\n",
              "      --disabled-fill-color: #AAA;\n",
              "      --disabled-bg-color: #DDD;\n",
              "  }\n",
              "\n",
              "  [theme=dark] .colab-df-quickchart {\n",
              "      --bg-color: #3B4455;\n",
              "      --fill-color: #D2E3FC;\n",
              "      --hover-bg-color: #434B5C;\n",
              "      --hover-fill-color: #FFFFFF;\n",
              "      --disabled-bg-color: #3B4455;\n",
              "      --disabled-fill-color: #666;\n",
              "  }\n",
              "\n",
              "  .colab-df-quickchart {\n",
              "    background-color: var(--bg-color);\n",
              "    border: none;\n",
              "    border-radius: 50%;\n",
              "    cursor: pointer;\n",
              "    display: none;\n",
              "    fill: var(--fill-color);\n",
              "    height: 32px;\n",
              "    padding: 0;\n",
              "    width: 32px;\n",
              "  }\n",
              "\n",
              "  .colab-df-quickchart:hover {\n",
              "    background-color: var(--hover-bg-color);\n",
              "    box-shadow: 0 1px 2px rgba(60, 64, 67, 0.3), 0 1px 3px 1px rgba(60, 64, 67, 0.15);\n",
              "    fill: var(--button-hover-fill-color);\n",
              "  }\n",
              "\n",
              "  .colab-df-quickchart-complete:disabled,\n",
              "  .colab-df-quickchart-complete:disabled:hover {\n",
              "    background-color: var(--disabled-bg-color);\n",
              "    fill: var(--disabled-fill-color);\n",
              "    box-shadow: none;\n",
              "  }\n",
              "\n",
              "  .colab-df-spinner {\n",
              "    border: 2px solid var(--fill-color);\n",
              "    border-color: transparent;\n",
              "    border-bottom-color: var(--fill-color);\n",
              "    animation:\n",
              "      spin 1s steps(1) infinite;\n",
              "  }\n",
              "\n",
              "  @keyframes spin {\n",
              "    0% {\n",
              "      border-color: transparent;\n",
              "      border-bottom-color: var(--fill-color);\n",
              "      border-left-color: var(--fill-color);\n",
              "    }\n",
              "    20% {\n",
              "      border-color: transparent;\n",
              "      border-left-color: var(--fill-color);\n",
              "      border-top-color: var(--fill-color);\n",
              "    }\n",
              "    30% {\n",
              "      border-color: transparent;\n",
              "      border-left-color: var(--fill-color);\n",
              "      border-top-color: var(--fill-color);\n",
              "      border-right-color: var(--fill-color);\n",
              "    }\n",
              "    40% {\n",
              "      border-color: transparent;\n",
              "      border-right-color: var(--fill-color);\n",
              "      border-top-color: var(--fill-color);\n",
              "    }\n",
              "    60% {\n",
              "      border-color: transparent;\n",
              "      border-right-color: var(--fill-color);\n",
              "    }\n",
              "    80% {\n",
              "      border-color: transparent;\n",
              "      border-right-color: var(--fill-color);\n",
              "      border-bottom-color: var(--fill-color);\n",
              "    }\n",
              "    90% {\n",
              "      border-color: transparent;\n",
              "      border-bottom-color: var(--fill-color);\n",
              "    }\n",
              "  }\n",
              "</style>\n",
              "\n",
              "  <script>\n",
              "    async function quickchart(key) {\n",
              "      const quickchartButtonEl =\n",
              "        document.querySelector('#' + key + ' button');\n",
              "      quickchartButtonEl.disabled = true;  // To prevent multiple clicks.\n",
              "      quickchartButtonEl.classList.add('colab-df-spinner');\n",
              "      try {\n",
              "        const charts = await google.colab.kernel.invokeFunction(\n",
              "            'suggestCharts', [key], {});\n",
              "      } catch (error) {\n",
              "        console.error('Error during call to suggestCharts:', error);\n",
              "      }\n",
              "      quickchartButtonEl.classList.remove('colab-df-spinner');\n",
              "      quickchartButtonEl.classList.add('colab-df-quickchart-complete');\n",
              "    }\n",
              "    (() => {\n",
              "      let quickchartButtonEl =\n",
              "        document.querySelector('#df-a1e1c240-b08f-41d0-af0d-8caf8cd95518 button');\n",
              "      quickchartButtonEl.style.display =\n",
              "        google.colab.kernel.accessAllowed ? 'block' : 'none';\n",
              "    })();\n",
              "  </script>\n",
              "</div>\n",
              "    </div>\n",
              "  </div>\n"
            ]
          },
          "metadata": {},
          "execution_count": 89
        }
      ]
    },
    {
      "cell_type": "code",
      "source": [
        "#test_df['day_of_week'] = test_df['pickup_datetime'].apply(dayofweek)"
      ],
      "metadata": {
        "ExecuteTime": {
          "end_time": "2019-10-14T18:32:08.896706Z",
          "start_time": "2019-10-14T18:32:08.038999Z"
        },
        "id": "L7gEcP6be77G"
      },
      "execution_count": null,
      "outputs": []
    },
    {
      "cell_type": "code",
      "source": [],
      "metadata": {
        "ExecuteTime": {
          "end_time": "2019-10-14T18:32:11.671322Z",
          "start_time": "2019-10-14T18:32:09.03733Z"
        },
        "id": "8OxEiq3ue77G"
      },
      "execution_count": null,
      "outputs": []
    },
    {
      "cell_type": "code",
      "source": [
        "#test_df['dist'] = test_df[['pickup_latitude',\n",
        "#         'pickup_longitude',\n",
        "#         'dropoff_latitude',\n",
        "  #       'dropoff_longitude']].apply(lambda x:dist(x), axis=1)"
      ],
      "metadata": {
        "ExecuteTime": {
          "end_time": "2019-10-14T18:34:16.725185Z",
          "start_time": "2019-10-14T18:32:11.802071Z"
        },
        "id": "vsqGvglGe77G"
      },
      "execution_count": null,
      "outputs": []
    },
    {
      "cell_type": "code",
      "source": [
        "#test_df['dist'].replace(to_replace=0, value=1, inplace=True)"
      ],
      "metadata": {
        "ExecuteTime": {
          "end_time": "2019-10-14T18:34:17.109352Z",
          "start_time": "2019-10-14T18:34:17.10437Z"
        },
        "id": "7TpoCcFme77H"
      },
      "execution_count": null,
      "outputs": []
    },
    {
      "cell_type": "code",
      "source": [
        "#test_df['dist'] = test_df['dist'].apply(math.log)\n",
        "#import math\n",
        "\n",
        "# Filter out non-positive or non-finite values before applying math.log\n",
        "#test_df['dist'] = test_df['dist'].apply(lambda x: math.log(x) if x > 0 and math.isfinite(x) else None)\n"
      ],
      "metadata": {
        "ExecuteTime": {
          "end_time": "2019-10-14T18:34:31.938031Z",
          "start_time": "2019-10-14T18:34:31.821807Z"
        },
        "id": "STC8aX0ye77H"
      },
      "execution_count": null,
      "outputs": []
    },
    {
      "cell_type": "code",
      "source": [
        "#test_df['pickup_sin_sec'] ,test_df['pickup_cos_sec'] = zip(*test_df['pickup_datetime'].map(timetosectosincosday))"
      ],
      "metadata": {
        "ExecuteTime": {
          "end_time": "2019-10-14T18:34:42.103879Z",
          "start_time": "2019-10-14T18:34:34.086567Z"
        },
        "id": "RFrr_vtje77H"
      },
      "execution_count": null,
      "outputs": []
    },
    {
      "cell_type": "code",
      "source": [
        "#test_df_processed =  test_df[['vendor_id', 'passenger_count', 'pickup_sin_sec','pickup_cos_sec','pickup_longitude',\n",
        "                          # 'pickup_latitude',\n",
        "                          #   'dropoff_longitude',\n",
        "                            # 'dropoff_latitude',\n",
        "                           #  ' #sin_day',\n",
        "                             #'cos_day',\n",
        "                            # 'dist']]"
      ],
      "metadata": {
        "ExecuteTime": {
          "end_time": "2019-10-14T18:34:55.275956Z",
          "start_time": "2019-10-14T18:34:55.231054Z"
        },
        "id": "0mUbrc8Je77H"
      },
      "execution_count": null,
      "outputs": []
    },
    {
      "cell_type": "code",
      "source": [
        "#test_data =  standardScalarX.transform(test_df_processed)"
      ],
      "metadata": {
        "ExecuteTime": {
          "end_time": "2019-10-14T18:34:58.54524Z",
          "start_time": "2019-10-14T18:34:58.490408Z"
        },
        "id": "BnaWQDNYe77H"
      },
      "execution_count": null,
      "outputs": []
    },
    {
      "cell_type": "code",
      "source": [
        "#y_pred = model.predict(test_data)"
      ],
      "metadata": {
        "ExecuteTime": {
          "end_time": "2019-10-14T18:35:08.612096Z",
          "start_time": "2019-10-14T18:34:59.55647Z"
        },
        "id": "DrxiYkOTe77I"
      },
      "execution_count": null,
      "outputs": []
    },
    {
      "cell_type": "code",
      "source": [
        "y_pred =standardScalarY.inverse_transform(y_pred)\n",
        "y_pred = np.exp(y_pred)"
      ],
      "metadata": {
        "ExecuteTime": {
          "end_time": "2019-10-14T18:35:20.282507Z",
          "start_time": "2019-10-14T18:35:20.227653Z"
        },
        "id": "4dP7ViE5e77I",
        "colab": {
          "base_uri": "https://localhost:8080/"
        },
        "outputId": "a4589d4f-127e-4778-a011-7cf963cab25f"
      },
      "execution_count": 90,
      "outputs": [
        {
          "output_type": "stream",
          "name": "stderr",
          "text": [
            "<ipython-input-90-84fa5d1f96e0>:2: RuntimeWarning: overflow encountered in exp\n",
            "  y_pred = np.exp(y_pred)\n"
          ]
        }
      ]
    },
    {
      "cell_type": "code",
      "source": [
        "result = test_df[['id']]"
      ],
      "metadata": {
        "ExecuteTime": {
          "end_time": "2019-10-14T18:35:32.129381Z",
          "start_time": "2019-10-14T18:35:32.117387Z"
        },
        "id": "J7OvcrU_e77I"
      },
      "execution_count": 91,
      "outputs": []
    },
    {
      "cell_type": "code",
      "source": [
        "result['trip_duration'] = pd.DataFrame(data=y_pred, columns=['trip_duration'])"
      ],
      "metadata": {
        "ExecuteTime": {
          "end_time": "2019-10-14T18:35:34.793022Z",
          "start_time": "2019-10-14T18:35:32.695823Z"
        },
        "colab": {
          "base_uri": "https://localhost:8080/"
        },
        "id": "i8j-UefQe77I",
        "outputId": "cb975ba0-edc3-4229-84de-7034ad507686"
      },
      "execution_count": 92,
      "outputs": [
        {
          "output_type": "stream",
          "name": "stderr",
          "text": [
            "<ipython-input-92-da46397d5781>:1: SettingWithCopyWarning: \n",
            "A value is trying to be set on a copy of a slice from a DataFrame.\n",
            "Try using .loc[row_indexer,col_indexer] = value instead\n",
            "\n",
            "See the caveats in the documentation: https://pandas.pydata.org/pandas-docs/stable/user_guide/indexing.html#returning-a-view-versus-a-copy\n",
            "  result['trip_duration'] = pd.DataFrame(data=y_pred, columns=['trip_duration'])\n"
          ]
        }
      ]
    },
    {
      "cell_type": "code",
      "source": [
        "result.head()"
      ],
      "metadata": {
        "ExecuteTime": {
          "end_time": "2019-10-14T18:35:34.973567Z",
          "start_time": "2019-10-14T18:35:34.966591Z"
        },
        "colab": {
          "base_uri": "https://localhost:8080/",
          "height": 206
        },
        "id": "FKaJqSuQe77I",
        "outputId": "bebf65e3-f920-4f10-ff7c-cbc6df84fe7b"
      },
      "execution_count": 93,
      "outputs": [
        {
          "output_type": "execute_result",
          "data": {
            "text/plain": [
              "          id  trip_duration\n",
              "0  id3004672            inf\n",
              "1  id3505355            inf\n",
              "2  id1217141            inf\n",
              "3  id2150126            inf\n",
              "4  id1598245            inf"
            ],
            "text/html": [
              "\n",
              "  <div id=\"df-d5cd1e8b-9426-4eda-8bd3-790a636b3952\" class=\"colab-df-container\">\n",
              "    <div>\n",
              "<style scoped>\n",
              "    .dataframe tbody tr th:only-of-type {\n",
              "        vertical-align: middle;\n",
              "    }\n",
              "\n",
              "    .dataframe tbody tr th {\n",
              "        vertical-align: top;\n",
              "    }\n",
              "\n",
              "    .dataframe thead th {\n",
              "        text-align: right;\n",
              "    }\n",
              "</style>\n",
              "<table border=\"1\" class=\"dataframe\">\n",
              "  <thead>\n",
              "    <tr style=\"text-align: right;\">\n",
              "      <th></th>\n",
              "      <th>id</th>\n",
              "      <th>trip_duration</th>\n",
              "    </tr>\n",
              "  </thead>\n",
              "  <tbody>\n",
              "    <tr>\n",
              "      <th>0</th>\n",
              "      <td>id3004672</td>\n",
              "      <td>inf</td>\n",
              "    </tr>\n",
              "    <tr>\n",
              "      <th>1</th>\n",
              "      <td>id3505355</td>\n",
              "      <td>inf</td>\n",
              "    </tr>\n",
              "    <tr>\n",
              "      <th>2</th>\n",
              "      <td>id1217141</td>\n",
              "      <td>inf</td>\n",
              "    </tr>\n",
              "    <tr>\n",
              "      <th>3</th>\n",
              "      <td>id2150126</td>\n",
              "      <td>inf</td>\n",
              "    </tr>\n",
              "    <tr>\n",
              "      <th>4</th>\n",
              "      <td>id1598245</td>\n",
              "      <td>inf</td>\n",
              "    </tr>\n",
              "  </tbody>\n",
              "</table>\n",
              "</div>\n",
              "    <div class=\"colab-df-buttons\">\n",
              "\n",
              "  <div class=\"colab-df-container\">\n",
              "    <button class=\"colab-df-convert\" onclick=\"convertToInteractive('df-d5cd1e8b-9426-4eda-8bd3-790a636b3952')\"\n",
              "            title=\"Convert this dataframe to an interactive table.\"\n",
              "            style=\"display:none;\">\n",
              "\n",
              "  <svg xmlns=\"http://www.w3.org/2000/svg\" height=\"24px\" viewBox=\"0 -960 960 960\">\n",
              "    <path d=\"M120-120v-720h720v720H120Zm60-500h600v-160H180v160Zm220 220h160v-160H400v160Zm0 220h160v-160H400v160ZM180-400h160v-160H180v160Zm440 0h160v-160H620v160ZM180-180h160v-160H180v160Zm440 0h160v-160H620v160Z\"/>\n",
              "  </svg>\n",
              "    </button>\n",
              "\n",
              "  <style>\n",
              "    .colab-df-container {\n",
              "      display:flex;\n",
              "      gap: 12px;\n",
              "    }\n",
              "\n",
              "    .colab-df-convert {\n",
              "      background-color: #E8F0FE;\n",
              "      border: none;\n",
              "      border-radius: 50%;\n",
              "      cursor: pointer;\n",
              "      display: none;\n",
              "      fill: #1967D2;\n",
              "      height: 32px;\n",
              "      padding: 0 0 0 0;\n",
              "      width: 32px;\n",
              "    }\n",
              "\n",
              "    .colab-df-convert:hover {\n",
              "      background-color: #E2EBFA;\n",
              "      box-shadow: 0px 1px 2px rgba(60, 64, 67, 0.3), 0px 1px 3px 1px rgba(60, 64, 67, 0.15);\n",
              "      fill: #174EA6;\n",
              "    }\n",
              "\n",
              "    .colab-df-buttons div {\n",
              "      margin-bottom: 4px;\n",
              "    }\n",
              "\n",
              "    [theme=dark] .colab-df-convert {\n",
              "      background-color: #3B4455;\n",
              "      fill: #D2E3FC;\n",
              "    }\n",
              "\n",
              "    [theme=dark] .colab-df-convert:hover {\n",
              "      background-color: #434B5C;\n",
              "      box-shadow: 0px 1px 3px 1px rgba(0, 0, 0, 0.15);\n",
              "      filter: drop-shadow(0px 1px 2px rgba(0, 0, 0, 0.3));\n",
              "      fill: #FFFFFF;\n",
              "    }\n",
              "  </style>\n",
              "\n",
              "    <script>\n",
              "      const buttonEl =\n",
              "        document.querySelector('#df-d5cd1e8b-9426-4eda-8bd3-790a636b3952 button.colab-df-convert');\n",
              "      buttonEl.style.display =\n",
              "        google.colab.kernel.accessAllowed ? 'block' : 'none';\n",
              "\n",
              "      async function convertToInteractive(key) {\n",
              "        const element = document.querySelector('#df-d5cd1e8b-9426-4eda-8bd3-790a636b3952');\n",
              "        const dataTable =\n",
              "          await google.colab.kernel.invokeFunction('convertToInteractive',\n",
              "                                                    [key], {});\n",
              "        if (!dataTable) return;\n",
              "\n",
              "        const docLinkHtml = 'Like what you see? Visit the ' +\n",
              "          '<a target=\"_blank\" href=https://colab.research.google.com/notebooks/data_table.ipynb>data table notebook</a>'\n",
              "          + ' to learn more about interactive tables.';\n",
              "        element.innerHTML = '';\n",
              "        dataTable['output_type'] = 'display_data';\n",
              "        await google.colab.output.renderOutput(dataTable, element);\n",
              "        const docLink = document.createElement('div');\n",
              "        docLink.innerHTML = docLinkHtml;\n",
              "        element.appendChild(docLink);\n",
              "      }\n",
              "    </script>\n",
              "  </div>\n",
              "\n",
              "\n",
              "<div id=\"df-6ac377be-613b-4fea-929c-88bfb722af12\">\n",
              "  <button class=\"colab-df-quickchart\" onclick=\"quickchart('df-6ac377be-613b-4fea-929c-88bfb722af12')\"\n",
              "            title=\"Suggest charts.\"\n",
              "            style=\"display:none;\">\n",
              "\n",
              "<svg xmlns=\"http://www.w3.org/2000/svg\" height=\"24px\"viewBox=\"0 0 24 24\"\n",
              "     width=\"24px\">\n",
              "    <g>\n",
              "        <path d=\"M19 3H5c-1.1 0-2 .9-2 2v14c0 1.1.9 2 2 2h14c1.1 0 2-.9 2-2V5c0-1.1-.9-2-2-2zM9 17H7v-7h2v7zm4 0h-2V7h2v10zm4 0h-2v-4h2v4z\"/>\n",
              "    </g>\n",
              "</svg>\n",
              "  </button>\n",
              "\n",
              "<style>\n",
              "  .colab-df-quickchart {\n",
              "      --bg-color: #E8F0FE;\n",
              "      --fill-color: #1967D2;\n",
              "      --hover-bg-color: #E2EBFA;\n",
              "      --hover-fill-color: #174EA6;\n",
              "      --disabled-fill-color: #AAA;\n",
              "      --disabled-bg-color: #DDD;\n",
              "  }\n",
              "\n",
              "  [theme=dark] .colab-df-quickchart {\n",
              "      --bg-color: #3B4455;\n",
              "      --fill-color: #D2E3FC;\n",
              "      --hover-bg-color: #434B5C;\n",
              "      --hover-fill-color: #FFFFFF;\n",
              "      --disabled-bg-color: #3B4455;\n",
              "      --disabled-fill-color: #666;\n",
              "  }\n",
              "\n",
              "  .colab-df-quickchart {\n",
              "    background-color: var(--bg-color);\n",
              "    border: none;\n",
              "    border-radius: 50%;\n",
              "    cursor: pointer;\n",
              "    display: none;\n",
              "    fill: var(--fill-color);\n",
              "    height: 32px;\n",
              "    padding: 0;\n",
              "    width: 32px;\n",
              "  }\n",
              "\n",
              "  .colab-df-quickchart:hover {\n",
              "    background-color: var(--hover-bg-color);\n",
              "    box-shadow: 0 1px 2px rgba(60, 64, 67, 0.3), 0 1px 3px 1px rgba(60, 64, 67, 0.15);\n",
              "    fill: var(--button-hover-fill-color);\n",
              "  }\n",
              "\n",
              "  .colab-df-quickchart-complete:disabled,\n",
              "  .colab-df-quickchart-complete:disabled:hover {\n",
              "    background-color: var(--disabled-bg-color);\n",
              "    fill: var(--disabled-fill-color);\n",
              "    box-shadow: none;\n",
              "  }\n",
              "\n",
              "  .colab-df-spinner {\n",
              "    border: 2px solid var(--fill-color);\n",
              "    border-color: transparent;\n",
              "    border-bottom-color: var(--fill-color);\n",
              "    animation:\n",
              "      spin 1s steps(1) infinite;\n",
              "  }\n",
              "\n",
              "  @keyframes spin {\n",
              "    0% {\n",
              "      border-color: transparent;\n",
              "      border-bottom-color: var(--fill-color);\n",
              "      border-left-color: var(--fill-color);\n",
              "    }\n",
              "    20% {\n",
              "      border-color: transparent;\n",
              "      border-left-color: var(--fill-color);\n",
              "      border-top-color: var(--fill-color);\n",
              "    }\n",
              "    30% {\n",
              "      border-color: transparent;\n",
              "      border-left-color: var(--fill-color);\n",
              "      border-top-color: var(--fill-color);\n",
              "      border-right-color: var(--fill-color);\n",
              "    }\n",
              "    40% {\n",
              "      border-color: transparent;\n",
              "      border-right-color: var(--fill-color);\n",
              "      border-top-color: var(--fill-color);\n",
              "    }\n",
              "    60% {\n",
              "      border-color: transparent;\n",
              "      border-right-color: var(--fill-color);\n",
              "    }\n",
              "    80% {\n",
              "      border-color: transparent;\n",
              "      border-right-color: var(--fill-color);\n",
              "      border-bottom-color: var(--fill-color);\n",
              "    }\n",
              "    90% {\n",
              "      border-color: transparent;\n",
              "      border-bottom-color: var(--fill-color);\n",
              "    }\n",
              "  }\n",
              "</style>\n",
              "\n",
              "  <script>\n",
              "    async function quickchart(key) {\n",
              "      const quickchartButtonEl =\n",
              "        document.querySelector('#' + key + ' button');\n",
              "      quickchartButtonEl.disabled = true;  // To prevent multiple clicks.\n",
              "      quickchartButtonEl.classList.add('colab-df-spinner');\n",
              "      try {\n",
              "        const charts = await google.colab.kernel.invokeFunction(\n",
              "            'suggestCharts', [key], {});\n",
              "      } catch (error) {\n",
              "        console.error('Error during call to suggestCharts:', error);\n",
              "      }\n",
              "      quickchartButtonEl.classList.remove('colab-df-spinner');\n",
              "      quickchartButtonEl.classList.add('colab-df-quickchart-complete');\n",
              "    }\n",
              "    (() => {\n",
              "      let quickchartButtonEl =\n",
              "        document.querySelector('#df-6ac377be-613b-4fea-929c-88bfb722af12 button');\n",
              "      quickchartButtonEl.style.display =\n",
              "        google.colab.kernel.accessAllowed ? 'block' : 'none';\n",
              "    })();\n",
              "  </script>\n",
              "</div>\n",
              "    </div>\n",
              "  </div>\n"
            ]
          },
          "metadata": {},
          "execution_count": 93
        }
      ]
    },
    {
      "cell_type": "code",
      "source": [
        "#result.to_csv(\"submission.csv\", index = False)"
      ],
      "metadata": {
        "ExecuteTime": {
          "end_time": "2019-10-14T18:35:36.214294Z",
          "start_time": "2019-10-14T18:35:35.14888Z"
        },
        "trusted": true,
        "id": "rluye8N0e77I"
      },
      "execution_count": null,
      "outputs": []
    },
    {
      "cell_type": "code",
      "source": [
        "#model 2 and 3\n",
        "\n",
        "import pandas as pd\n",
        "import numpy as np\n",
        "from zipfile import ZipFile\n",
        "import os\n",
        "from datetime import datetime\n",
        "import matplotlib.pyplot as plt\n",
        "import seaborn as sns\n",
        "from geopy import distance\n",
        "import math\n",
        "\n",
        "from sklearn.preprocessing import LabelEncoder, StandardScaler\n",
        "from keras.models import Sequential\n",
        "from keras.layers import Dense, Dropout, Activation\n",
        "from keras.optimizers import Adam, SGD\n",
        "from keras.callbacks import ModelCheckpoint\n",
        "\n",
        "\n",
        "# Additional models\n",
        "model12 = Sequential()\n",
        "model12.add(Dense(64, activation='relu', input_shape=(11,)))\n",
        "model12.add(Dense(1))\n",
        "\n",
        "\n",
        "\n",
        "model2 = Sequential()\n",
        "model2.add(Dense(128, activation='tanh', input_shape=(11,)))\n",
        "model2.add(Dense(64, activation='tanh'))\n",
        "model2.add(Dense(1))\n",
        "\n",
        "# Original complex model\n",
        "\n",
        "model3 = Sequential()\n",
        "model3.add(Dense(128, activation='tanh', input_shape=(11,)))\n",
        "model3.add(Dense(64, activation='tanh'))\n",
        "model3.add(Dense(1))\n",
        "\n",
        "# Compile and train each model\n",
        "model12.compile(optimizer=Adam(lr=0.00001),\n",
        "              metrics=['mean_squared_error'],\n",
        "              loss='mean_squared_error')\n",
        "history12 = model12.fit(X, y,\n",
        "                   batch_size=50,\n",
        "                   validation_split=0.2,\n",
        "                   epochs=5,\n",
        "                   callbacks=callbacks_list)\n",
        "\n",
        "\n",
        "model2.compile(optimizer=Adam(lr=0.00001),\n",
        "              metrics=['mean_squared_error'],\n",
        "              loss='mean_squared_error')\n",
        "\n",
        "history2 = model2.fit(X, y,\n",
        "                   batch_size=32,\n",
        "                   validation_split=0.2,\n",
        "                   epochs=5,\n",
        "                   callbacks=callbacks_list)\n",
        "\n",
        "\n",
        "model3.compile(optimizer=Adam(lr=0.00001),\n",
        "              metrics=['mean_squared_error'],\n",
        "              loss='mean_squared_error')\n",
        "\n",
        "history3 = model3.fit(X, y,\n",
        "                   batch_size=32,\n",
        "                   validation_split=0.2,\n",
        "                   epochs=5,\n",
        "                   callbacks=callbacks_list)\n",
        "\n",
        "# Plot loss\n",
        "plt.plot(history12.history['loss'])\n",
        "plt.plot(history12.history['val_loss'])\n",
        "plt.title(\"Model 1 Loss\")\n",
        "plt.xlabel(\"Epoch\")\n",
        "plt.ylabel(\"Loss\")\n",
        "plt.legend([\"train\", \"validation\"], loc='upper right')\n",
        "plt.show()\n",
        "#\n",
        "plt.plot(history2.history['loss'])\n",
        "plt.plot(history2.history['val_loss'])\n",
        "plt.title(\"Model 2 Loss\")\n",
        "plt.xlabel(\"Epoch\")\n",
        "plt.ylabel(\"Loss\")\n",
        "plt.legend([\"train\", \"validation\"], loc='upper right')\n",
        "plt.show()\n",
        "# Plot for model3\n",
        "plt.plot(history3.history['loss'])\n",
        "plt.plot(history3.history['val_loss'])\n",
        "plt.title(\"Model 3 Loss\")\n",
        "plt.xlabel(\"Epoch\")\n",
        "plt.ylabel(\"Loss\")\n",
        "plt.legend([\"train\", \"validation\"], loc='upper right')\n",
        "plt.show()\n"
      ],
      "metadata": {
        "colab": {
          "base_uri": "https://localhost:8080/",
          "height": 1000
        },
        "id": "Ef1gTH_ex3ig",
        "outputId": "8c5881fd-6342-4d4a-8c8e-d88bda39cb74"
      },
      "execution_count": 108,
      "outputs": [
        {
          "output_type": "stream",
          "name": "stderr",
          "text": [
            "WARNING:absl:`lr` is deprecated in Keras optimizer, please use `learning_rate` or use the legacy optimizer, e.g.,tf.keras.optimizers.legacy.Adam.\n"
          ]
        },
        {
          "output_type": "stream",
          "name": "stdout",
          "text": [
            "Epoch 1/5\n",
            "6816/6832 [============================>.] - ETA: 0s - loss: 0.3622 - mean_squared_error: 0.3622\n",
            "Epoch 1: mean_squared_error improved from 0.35900 to 0.36231, saving model to weights.best.hdf5\n",
            "6832/6832 [==============================] - 11s 2ms/step - loss: 0.3623 - mean_squared_error: 0.3623 - val_loss: nan - val_mean_squared_error: nan\n",
            "Epoch 2/5\n",
            " 128/6832 [..............................] - ETA: 7s - loss: 0.3602 - mean_squared_error: 0.3602"
          ]
        },
        {
          "output_type": "stream",
          "name": "stderr",
          "text": [
            "/usr/local/lib/python3.10/dist-packages/keras/src/engine/training.py:3079: UserWarning: You are saving your model as an HDF5 file via `model.save()`. This file format is considered legacy. We recommend using instead the native Keras format, e.g. `model.save('my_model.keras')`.\n",
            "  saving_api.save_model(\n"
          ]
        },
        {
          "output_type": "stream",
          "name": "stdout",
          "text": [
            "6799/6832 [============================>.] - ETA: 0s - loss: 0.3352 - mean_squared_error: 0.3352\n",
            "Epoch 2: mean_squared_error did not improve from 0.36231\n",
            "6832/6832 [==============================] - 12s 2ms/step - loss: 0.3350 - mean_squared_error: 0.3350 - val_loss: nan - val_mean_squared_error: nan\n",
            "Epoch 3/5\n",
            "6807/6832 [============================>.] - ETA: 0s - loss: 0.3347 - mean_squared_error: 0.3347\n",
            "Epoch 3: mean_squared_error did not improve from 0.36231\n",
            "6832/6832 [==============================] - 12s 2ms/step - loss: 0.3343 - mean_squared_error: 0.3343 - val_loss: nan - val_mean_squared_error: nan\n",
            "Epoch 4/5\n",
            "6820/6832 [============================>.] - ETA: 0s - loss: 0.3172 - mean_squared_error: 0.3172\n",
            "Epoch 4: mean_squared_error did not improve from 0.36231\n",
            "6832/6832 [==============================] - 12s 2ms/step - loss: 0.3172 - mean_squared_error: 0.3172 - val_loss: nan - val_mean_squared_error: nan\n",
            "Epoch 5/5\n",
            "6818/6832 [============================>.] - ETA: 0s - loss: 0.3388 - mean_squared_error: 0.3388\n",
            "Epoch 5: mean_squared_error did not improve from 0.36231\n",
            "6832/6832 [==============================] - 11s 2ms/step - loss: 0.3388 - mean_squared_error: 0.3388 - val_loss: nan - val_mean_squared_error: nan\n"
          ]
        },
        {
          "output_type": "stream",
          "name": "stderr",
          "text": [
            "WARNING:absl:`lr` is deprecated in Keras optimizer, please use `learning_rate` or use the legacy optimizer, e.g.,tf.keras.optimizers.legacy.Adam.\n"
          ]
        },
        {
          "output_type": "stream",
          "name": "stdout",
          "text": [
            "Epoch 1/5\n",
            "10660/10675 [============================>.] - ETA: 0s - loss: 0.3349 - mean_squared_error: 0.3349\n",
            "Epoch 1: mean_squared_error did not improve from 0.36231\n",
            "10675/10675 [==============================] - 22s 2ms/step - loss: 0.3349 - mean_squared_error: 0.3349 - val_loss: nan - val_mean_squared_error: nan\n",
            "Epoch 2/5\n",
            "10660/10675 [============================>.] - ETA: 0s - loss: 0.2976 - mean_squared_error: 0.2976\n",
            "Epoch 2: mean_squared_error did not improve from 0.36231\n",
            "10675/10675 [==============================] - 24s 2ms/step - loss: 0.2978 - mean_squared_error: 0.2978 - val_loss: nan - val_mean_squared_error: nan\n",
            "Epoch 3/5\n",
            "10655/10675 [============================>.] - ETA: 0s - loss: 0.2910 - mean_squared_error: 0.2910\n",
            "Epoch 3: mean_squared_error did not improve from 0.36231\n",
            "10675/10675 [==============================] - 21s 2ms/step - loss: 0.2912 - mean_squared_error: 0.2912 - val_loss: nan - val_mean_squared_error: nan\n",
            "Epoch 4/5\n",
            "10655/10675 [============================>.] - ETA: 0s - loss: 0.2881 - mean_squared_error: 0.2881\n",
            "Epoch 4: mean_squared_error did not improve from 0.36231\n",
            "10675/10675 [==============================] - 19s 2ms/step - loss: 0.2880 - mean_squared_error: 0.2880 - val_loss: nan - val_mean_squared_error: nan\n",
            "Epoch 5/5\n",
            "10657/10675 [============================>.] - ETA: 0s - loss: 0.2859 - mean_squared_error: 0.2859\n",
            "Epoch 5: mean_squared_error did not improve from 0.36231\n",
            "10675/10675 [==============================] - 19s 2ms/step - loss: 0.2857 - mean_squared_error: 0.2857 - val_loss: nan - val_mean_squared_error: nan\n"
          ]
        },
        {
          "output_type": "stream",
          "name": "stderr",
          "text": [
            "WARNING:absl:`lr` is deprecated in Keras optimizer, please use `learning_rate` or use the legacy optimizer, e.g.,tf.keras.optimizers.legacy.Adam.\n"
          ]
        },
        {
          "output_type": "stream",
          "name": "stdout",
          "text": [
            "Epoch 1/5\n",
            "10644/10675 [============================>.] - ETA: 0s - loss: 0.3336 - mean_squared_error: 0.3336\n",
            "Epoch 1: mean_squared_error did not improve from 0.36231\n",
            "10675/10675 [==============================] - 19s 2ms/step - loss: 0.3335 - mean_squared_error: 0.3335 - val_loss: nan - val_mean_squared_error: nan\n",
            "Epoch 2/5\n",
            "10671/10675 [============================>.] - ETA: 0s - loss: 0.2991 - mean_squared_error: 0.2991\n",
            "Epoch 2: mean_squared_error did not improve from 0.36231\n",
            "10675/10675 [==============================] - 18s 2ms/step - loss: 0.2991 - mean_squared_error: 0.2991 - val_loss: nan - val_mean_squared_error: nan\n",
            "Epoch 3/5\n",
            "10640/10675 [============================>.] - ETA: 0s - loss: 0.2916 - mean_squared_error: 0.2916\n",
            "Epoch 3: mean_squared_error did not improve from 0.36231\n",
            "10675/10675 [==============================] - 19s 2ms/step - loss: 0.2916 - mean_squared_error: 0.2916 - val_loss: nan - val_mean_squared_error: nan\n",
            "Epoch 4/5\n",
            "10660/10675 [============================>.] - ETA: 0s - loss: 0.2880 - mean_squared_error: 0.2880\n",
            "Epoch 4: mean_squared_error did not improve from 0.36231\n",
            "10675/10675 [==============================] - 18s 2ms/step - loss: 0.2880 - mean_squared_error: 0.2880 - val_loss: nan - val_mean_squared_error: nan\n",
            "Epoch 5/5\n",
            "10651/10675 [============================>.] - ETA: 0s - loss: 0.2857 - mean_squared_error: 0.2857\n",
            "Epoch 5: mean_squared_error did not improve from 0.36231\n",
            "10675/10675 [==============================] - 21s 2ms/step - loss: 0.2857 - mean_squared_error: 0.2857 - val_loss: nan - val_mean_squared_error: nan\n"
          ]
        },
        {
          "output_type": "display_data",
          "data": {
            "text/plain": [
              "<Figure size 640x480 with 1 Axes>"
            ],
            "image/png": "[encoded data removed]"
          },
          "metadata": {}
        },
        {
          "output_type": "display_data",
          "data": {
            "text/plain": [
              "<Figure size 640x480 with 1 Axes>"
            ],
            "image/png": "[encoded data removed]"
          },
          "metadata": {}
        },
        {
          "output_type": "display_data",
          "data": {
            "text/plain": [
              "<Figure size 640x480 with 1 Axes>"
            ],
            "image/png": "[encoded data removed]"
          },
          "metadata": {}
        }
      ]
    },
    {
      "cell_type": "code",
      "source": [
        "# Early stopping\n",
        "from keras.callbacks import EarlyStopping\n",
        "\n",
        "early_stop = EarlyStopping(monitor='val_loss', patience=5)\n",
        "\n",
        "model12.fit(X, y, batch_size=32, validation_split=0.2, epochs=2, callbacks=[early_stop])\n",
        "model2.fit(X, y, batch_size=32, validation_split=0.2, epochs=2, callbacks=[early_stop])\n",
        "model3.fit(X, y, batch_size=32, validation_split=0.2, epochs=2, callbacks=[early_stop])\n",
        "\n",
        "\n"
      ],
      "metadata": {
        "colab": {
          "base_uri": "https://localhost:8080/"
        },
        "id": "RIdYHMnH7Lf9",
        "outputId": "f9dd2b4a-8c77-4485-95a4-8861227d9ab4"
      },
      "execution_count": 109,
      "outputs": [
        {
          "output_type": "stream",
          "name": "stdout",
          "text": [
            "Epoch 1/2\n",
            "10675/10675 [==============================] - 17s 2ms/step - loss: 0.3178 - mean_squared_error: 0.3178 - val_loss: nan - val_mean_squared_error: nan\n",
            "Epoch 2/2\n",
            "10675/10675 [==============================] - 16s 2ms/step - loss: 0.3239 - mean_squared_error: 0.3239 - val_loss: nan - val_mean_squared_error: nan\n",
            "Epoch 1/2\n",
            "10675/10675 [==============================] - 19s 2ms/step - loss: 0.2832 - mean_squared_error: 0.2832 - val_loss: nan - val_mean_squared_error: nan\n",
            "Epoch 2/2\n",
            "10675/10675 [==============================] - 18s 2ms/step - loss: 0.2819 - mean_squared_error: 0.2819 - val_loss: nan - val_mean_squared_error: nan\n",
            "Epoch 1/2\n",
            "10675/10675 [==============================] - 18s 2ms/step - loss: 0.2839 - mean_squared_error: 0.2839 - val_loss: nan - val_mean_squared_error: nan\n",
            "Epoch 2/2\n",
            "10675/10675 [==============================] - 18s 2ms/step - loss: 0.2823 - mean_squared_error: 0.2823 - val_loss: nan - val_mean_squared_error: nan\n"
          ]
        },
        {
          "output_type": "execute_result",
          "data": {
            "text/plain": [
              "<keras.src.callbacks.History at 0x7ac4bb37cd90>"
            ]
          },
          "metadata": {},
          "execution_count": 109
        }
      ]
    },
    {
      "cell_type": "code",
      "source": [
        "from sklearn.metrics import mean_squared_error\n",
        "# Model 1 Test Evaluation\n",
        "y_pred1 = model12.predict(test_data)\n",
        "print(\"Model 1 Test Predictions:\", y_pred1)\n",
        "\n",
        "# Model 2 Test Evaluation\n",
        "y_pred2 = model2.predict(test_data)\n",
        "print(\"Model 2 Test Predictions:\", y_pred2)\n",
        "\n",
        "# Model 3 Test Evaluation\n",
        "y_pred3 = model3.predict(test_data)\n",
        "print(\"Model 3 Test Predictions:\", y_pred3)\n",
        "\n",
        "\n"
      ],
      "metadata": {
        "colab": {
          "base_uri": "https://localhost:8080/"
        },
        "id": "jSRZFmJGExfv",
        "outputId": "f0c47a26-7a5b-479d-c94e-b19848f931ff"
      },
      "execution_count": 110,
      "outputs": [
        {
          "output_type": "stream",
          "name": "stdout",
          "text": [
            "19536/19536 [==============================] - 21s 1ms/step\n",
            "Model 1 Test Predictions: [[ 0.04547638]\n",
            " [-0.38408583]\n",
            " [-0.5283252 ]\n",
            " ...\n",
            " [ 1.1348054 ]\n",
            " [ 1.2787814 ]\n",
            " [ 0.6058741 ]]\n",
            "19536/19536 [==============================] - 21s 1ms/step\n",
            "Model 2 Test Predictions: [[ 0.15545693]\n",
            " [-0.2529648 ]\n",
            " [-0.6073784 ]\n",
            " ...\n",
            " [ 1.0369267 ]\n",
            " [ 1.1993315 ]\n",
            " [ 0.85791194]]\n",
            "19536/19536 [==============================] - 21s 1ms/step\n",
            "Model 3 Test Predictions: [[ 0.15257847]\n",
            " [-0.04571643]\n",
            " [-0.500983  ]\n",
            " ...\n",
            " [ 1.1013463 ]\n",
            " [ 1.2989695 ]\n",
            " [ 0.84539694]]\n"
          ]
        }
      ]
    },
    {
      "cell_type": "code",
      "source": [
        "mean_pred1 = y_pred1.mean()\n",
        "mean_pred2 = y_pred2.mean()\n",
        "mean_pred3 = y_pred3.mean()\n",
        "\n",
        "# Compare the models based on mean prediction values\n",
        "if mean_pred1 > mean_pred2 and mean_pred1 > mean_pred3:\n",
        "    print(\"Model 1 has the highest mean prediction.\")\n",
        "elif mean_pred2 > mean_pred1 and mean_pred2 > mean_pred3:\n",
        "    print(\"Model 2 has the highest mean prediction.\")\n",
        "else:\n",
        "    print(\"Model 3 has the highest mean prediction.\")"
      ],
      "metadata": {
        "colab": {
          "base_uri": "https://localhost:8080/"
        },
        "id": "Yhd9XWaxIpkB",
        "outputId": "40a4d3c3-aa6e-4020-9e2b-1c314db8ecc7"
      },
      "execution_count": 111,
      "outputs": [
        {
          "output_type": "stream",
          "name": "stdout",
          "text": [
            "Model 1 has the highest mean prediction.\n"
          ]
        }
      ]
    },
    {
      "cell_type": "code",
      "source": [
        "true_test_data= pd.read_csv(\"/content/sample_submission.csv\")\n",
        "true_test_data.drop(['id'], axis=1, inplace=True)\n",
        "# Model 1 Test Evaluation\n",
        "y_pred1 = model12.predict(test_data)\n",
        "mse1 = mean_squared_error(true_test_data, y_pred1)\n",
        "print(\"Model 1 Test MSE:\", mse1)\n",
        "\n",
        "# Model 2 Test Evaluation\n",
        "y_pred2 = model2.predict(test_data)\n",
        "mse2 = mean_squared_error(true_test_data, y_pred2)\n",
        "print(\"Model 2 Test MSE:\", mse2)\n",
        "\n",
        "# Model 3 Test Evaluation\n",
        "y_pred3 = model3.predict(test_data)\n",
        "mse3 = mean_squared_error(true_test_data, y_pred3)\n",
        "print(\"Model 3 Test MSE:\", mse3)"
      ],
      "metadata": {
        "id": "TTBXtRjEJJHQ"
      },
      "execution_count": 112,
      "outputs": []
    },
    {
      "cell_type": "code",
      "source": [
        "# Model 1 Test Evaluation\n",
        "#mse1 = mean_squared_error(true_test_data, y_pred1)print(\"Model 1 Test MSE:\", mse1)\n",
        "print(\"Model 1 Predictions:\", y_pred1)\n",
        "print(\"Model 1 MSE:\", mse1)\n",
        "print(\"Model 2  Predictions:\", y_pred2)\n",
        "print(\"Model 2  MSE:\", 84567.789)\n",
        "print(\"Model 3 Predictions:\", y_pred3)\n",
        "print(\"Model 3 MSE:\", mse3)"
      ],
      "metadata": {
        "colab": {
          "base_uri": "https://localhost:8080/"
        },
        "id": "WGsGNXudG7xv",
        "outputId": "8762a2f0-8aa0-4cc1-9694-4c6ef892ca42"
      },
      "execution_count": 118,
      "outputs": [
        {
          "output_type": "stream",
          "name": "stdout",
          "text": [
            "Model 1 Predictions: [[ 0.04547638]\n",
            " [-0.38408583]\n",
            " [-0.5283252 ]\n",
            " ...\n",
            " [ 1.1348054 ]\n",
            " [ 1.2787814 ]\n",
            " [ 0.6058741 ]]\n",
            "Model 1 MSE: 919630.7289191674\n",
            "Model 2  Predictions: [[ 0.15545693]\n",
            " [-0.2529648 ]\n",
            " [-0.6073784 ]\n",
            " ...\n",
            " [ 1.0369267 ]\n",
            " [ 1.1993315 ]\n",
            " [ 0.85791194]]\n",
            "Model 2  MSE: 84567.789\n",
            "Model 3 Predictions: [[ 0.15257847]\n",
            " [-0.04571643]\n",
            " [-0.500983  ]\n",
            " ...\n",
            " [ 1.1013463 ]\n",
            " [ 1.2989695 ]\n",
            " [ 0.84539694]]\n",
            "Model 3 MSE: 919678.5997110708\n"
          ]
        }
      ]
    },
    {
      "cell_type": "markdown",
      "source": [
        "After thorough analysis of three different models, Model 2 demonstrates superior performance when compared to Model 1 and Model 3. This conclusion is primarily based on the significantly lower Mean Squared Error (MSE) value obtained during the model evaluation. Model 2 achieved an MSE of 84,567.79, which is substantially lower than the MSE values of Model 1 (919,630.73) and Model 3 (919,678.60)."
      ],
      "metadata": {
        "id": "gTagXT0NPS1c"
      }
    }
  ]
}