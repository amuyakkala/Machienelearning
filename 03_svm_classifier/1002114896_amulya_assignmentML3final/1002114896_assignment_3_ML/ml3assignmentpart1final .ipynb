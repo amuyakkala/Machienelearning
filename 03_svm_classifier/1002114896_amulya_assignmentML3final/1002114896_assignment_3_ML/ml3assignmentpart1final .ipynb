{
 "cells": [
  {
   "cell_type": "markdown",
   "metadata": {
    "id": "JHlkYUNYRfO_"
   },
   "source": [
    "**1.1**"
   ]
  },
  {
   "cell_type": "code",
   "execution_count": 1,
   "metadata": {
    "id": "XfxwPqfndLE-"
   },
   "outputs": [
    {
     "name": "stdout",
     "output_type": "stream",
     "text": [
      "Requirement already satisfied: keras in c:\\users\\amuly\\anaconda3\\lib\\site-packages (2.14.0)\n",
      "Requirement already satisfied: tensorflow in c:\\users\\amuly\\anaconda3\\lib\\site-packages (2.14.0)\n",
      "Requirement already satisfied: tensorflow-intel==2.14.0 in c:\\users\\amuly\\anaconda3\\lib\\site-packages (from tensorflow) (2.14.0)\n",
      "Requirement already satisfied: absl-py>=1.0.0 in c:\\users\\amuly\\anaconda3\\lib\\site-packages (from tensorflow-intel==2.14.0->tensorflow) (2.0.0)\n",
      "Requirement already satisfied: astunparse>=1.6.0 in c:\\users\\amuly\\anaconda3\\lib\\site-packages (from tensorflow-intel==2.14.0->tensorflow) (1.6.3)\n",
      "Requirement already satisfied: flatbuffers>=23.5.26 in c:\\users\\amuly\\anaconda3\\lib\\site-packages (from tensorflow-intel==2.14.0->tensorflow) (23.5.26)\n",
      "Requirement already satisfied: gast!=0.5.0,!=0.5.1,!=0.5.2,>=0.2.1 in c:\\users\\amuly\\anaconda3\\lib\\site-packages (from tensorflow-intel==2.14.0->tensorflow) (0.5.4)\n",
      "Requirement already satisfied: google-pasta>=0.1.1 in c:\\users\\amuly\\anaconda3\\lib\\site-packages (from tensorflow-intel==2.14.0->tensorflow) (0.2.0)\n",
      "Requirement already satisfied: h5py>=2.9.0 in c:\\users\\amuly\\anaconda3\\lib\\site-packages (from tensorflow-intel==2.14.0->tensorflow) (3.9.0)\n",
      "Requirement already satisfied: libclang>=13.0.0 in c:\\users\\amuly\\anaconda3\\lib\\site-packages (from tensorflow-intel==2.14.0->tensorflow) (16.0.6)\n",
      "Requirement already satisfied: ml-dtypes==0.2.0 in c:\\users\\amuly\\anaconda3\\lib\\site-packages (from tensorflow-intel==2.14.0->tensorflow) (0.2.0)\n",
      "Requirement already satisfied: numpy>=1.23.5 in c:\\users\\amuly\\anaconda3\\lib\\site-packages (from tensorflow-intel==2.14.0->tensorflow) (1.24.3)\n",
      "Requirement already satisfied: opt-einsum>=2.3.2 in c:\\users\\amuly\\anaconda3\\lib\\site-packages (from tensorflow-intel==2.14.0->tensorflow) (3.3.0)\n",
      "Requirement already satisfied: packaging in c:\\users\\amuly\\anaconda3\\lib\\site-packages (from tensorflow-intel==2.14.0->tensorflow) (23.1)\n",
      "Requirement already satisfied: protobuf!=4.21.0,!=4.21.1,!=4.21.2,!=4.21.3,!=4.21.4,!=4.21.5,<5.0.0dev,>=3.20.3 in c:\\users\\amuly\\anaconda3\\lib\\site-packages (from tensorflow-intel==2.14.0->tensorflow) (4.24.4)\n",
      "Requirement already satisfied: setuptools in c:\\users\\amuly\\anaconda3\\lib\\site-packages (from tensorflow-intel==2.14.0->tensorflow) (68.0.0)\n",
      "Requirement already satisfied: six>=1.12.0 in c:\\users\\amuly\\anaconda3\\lib\\site-packages (from tensorflow-intel==2.14.0->tensorflow) (1.16.0)\n",
      "Requirement already satisfied: termcolor>=1.1.0 in c:\\users\\amuly\\anaconda3\\lib\\site-packages (from tensorflow-intel==2.14.0->tensorflow) (2.3.0)\n",
      "Requirement already satisfied: typing-extensions>=3.6.6 in c:\\users\\amuly\\anaconda3\\lib\\site-packages (from tensorflow-intel==2.14.0->tensorflow) (4.7.1)\n",
      "Requirement already satisfied: wrapt<1.15,>=1.11.0 in c:\\users\\amuly\\anaconda3\\lib\\site-packages (from tensorflow-intel==2.14.0->tensorflow) (1.14.1)\n",
      "Requirement already satisfied: tensorflow-io-gcs-filesystem>=0.23.1 in c:\\users\\amuly\\anaconda3\\lib\\site-packages (from tensorflow-intel==2.14.0->tensorflow) (0.31.0)\n",
      "Requirement already satisfied: grpcio<2.0,>=1.24.3 in c:\\users\\amuly\\anaconda3\\lib\\site-packages (from tensorflow-intel==2.14.0->tensorflow) (1.59.0)\n",
      "Requirement already satisfied: tensorboard<2.15,>=2.14 in c:\\users\\amuly\\anaconda3\\lib\\site-packages (from tensorflow-intel==2.14.0->tensorflow) (2.14.1)\n",
      "Requirement already satisfied: tensorflow-estimator<2.15,>=2.14.0 in c:\\users\\amuly\\anaconda3\\lib\\site-packages (from tensorflow-intel==2.14.0->tensorflow) (2.14.0)\n",
      "Requirement already satisfied: keras<2.15,>=2.14.0 in c:\\users\\amuly\\anaconda3\\lib\\site-packages (from tensorflow-intel==2.14.0->tensorflow) (2.14.0)\n",
      "Requirement already satisfied: wheel<1.0,>=0.23.0 in c:\\users\\amuly\\anaconda3\\lib\\site-packages (from astunparse>=1.6.0->tensorflow-intel==2.14.0->tensorflow) (0.38.4)\n",
      "Requirement already satisfied: google-auth<3,>=1.6.3 in c:\\users\\amuly\\anaconda3\\lib\\site-packages (from tensorboard<2.15,>=2.14->tensorflow-intel==2.14.0->tensorflow) (2.23.3)\n",
      "Requirement already satisfied: google-auth-oauthlib<1.1,>=0.5 in c:\\users\\amuly\\anaconda3\\lib\\site-packages (from tensorboard<2.15,>=2.14->tensorflow-intel==2.14.0->tensorflow) (1.0.0)\n",
      "Requirement already satisfied: markdown>=2.6.8 in c:\\users\\amuly\\anaconda3\\lib\\site-packages (from tensorboard<2.15,>=2.14->tensorflow-intel==2.14.0->tensorflow) (3.4.1)\n",
      "Requirement already satisfied: requests<3,>=2.21.0 in c:\\users\\amuly\\anaconda3\\lib\\site-packages (from tensorboard<2.15,>=2.14->tensorflow-intel==2.14.0->tensorflow) (2.31.0)\n",
      "Requirement already satisfied: tensorboard-data-server<0.8.0,>=0.7.0 in c:\\users\\amuly\\anaconda3\\lib\\site-packages (from tensorboard<2.15,>=2.14->tensorflow-intel==2.14.0->tensorflow) (0.7.1)\n",
      "Requirement already satisfied: werkzeug>=1.0.1 in c:\\users\\amuly\\anaconda3\\lib\\site-packages (from tensorboard<2.15,>=2.14->tensorflow-intel==2.14.0->tensorflow) (2.2.3)\n",
      "Requirement already satisfied: cachetools<6.0,>=2.0.0 in c:\\users\\amuly\\anaconda3\\lib\\site-packages (from google-auth<3,>=1.6.3->tensorboard<2.15,>=2.14->tensorflow-intel==2.14.0->tensorflow) (5.3.1)\n",
      "Requirement already satisfied: pyasn1-modules>=0.2.1 in c:\\users\\amuly\\anaconda3\\lib\\site-packages (from google-auth<3,>=1.6.3->tensorboard<2.15,>=2.14->tensorflow-intel==2.14.0->tensorflow) (0.2.8)\n",
      "Requirement already satisfied: rsa<5,>=3.1.4 in c:\\users\\amuly\\anaconda3\\lib\\site-packages (from google-auth<3,>=1.6.3->tensorboard<2.15,>=2.14->tensorflow-intel==2.14.0->tensorflow) (4.9)\n",
      "Requirement already satisfied: requests-oauthlib>=0.7.0 in c:\\users\\amuly\\anaconda3\\lib\\site-packages (from google-auth-oauthlib<1.1,>=0.5->tensorboard<2.15,>=2.14->tensorflow-intel==2.14.0->tensorflow) (1.3.1)\n",
      "Requirement already satisfied: charset-normalizer<4,>=2 in c:\\users\\amuly\\anaconda3\\lib\\site-packages (from requests<3,>=2.21.0->tensorboard<2.15,>=2.14->tensorflow-intel==2.14.0->tensorflow) (2.0.4)\n",
      "Requirement already satisfied: idna<4,>=2.5 in c:\\users\\amuly\\anaconda3\\lib\\site-packages (from requests<3,>=2.21.0->tensorboard<2.15,>=2.14->tensorflow-intel==2.14.0->tensorflow) (3.4)\n",
      "Requirement already satisfied: urllib3<3,>=1.21.1 in c:\\users\\amuly\\anaconda3\\lib\\site-packages (from requests<3,>=2.21.0->tensorboard<2.15,>=2.14->tensorflow-intel==2.14.0->tensorflow) (1.26.16)\n",
      "Requirement already satisfied: certifi>=2017.4.17 in c:\\users\\amuly\\anaconda3\\lib\\site-packages (from requests<3,>=2.21.0->tensorboard<2.15,>=2.14->tensorflow-intel==2.14.0->tensorflow) (2023.7.22)\n",
      "Requirement already satisfied: MarkupSafe>=2.1.1 in c:\\users\\amuly\\anaconda3\\lib\\site-packages (from werkzeug>=1.0.1->tensorboard<2.15,>=2.14->tensorflow-intel==2.14.0->tensorflow) (2.1.1)\n",
      "Requirement already satisfied: pyasn1<0.5.0,>=0.4.6 in c:\\users\\amuly\\anaconda3\\lib\\site-packages (from pyasn1-modules>=0.2.1->google-auth<3,>=1.6.3->tensorboard<2.15,>=2.14->tensorflow-intel==2.14.0->tensorflow) (0.4.8)\n",
      "Requirement already satisfied: oauthlib>=3.0.0 in c:\\users\\amuly\\anaconda3\\lib\\site-packages (from requests-oauthlib>=0.7.0->google-auth-oauthlib<1.1,>=0.5->tensorboard<2.15,>=2.14->tensorflow-intel==2.14.0->tensorflow) (3.2.2)\n"
     ]
    }
   ],
   "source": [
    "import numpy as np\n",
    "import random\n",
    "import math\n",
    "from numpy import array, exp\n",
    "!pip install keras\n",
    "!pip install tensorflow \n",
    "from keras.datasets import mnist\n",
    "from keras.utils import to_categorical\n",
    "import matplotlib.pyplot as plt\n",
    "np.seterr(divide = 'ignore', invalid = 'ignore', over = 'ignore', under = 'ignore')\n",
    "class Layer:\n",
    "  def ForwardPropagation(self, input):\n",
    "    pass\n",
    "  def BackwardPropagation(self, error):\n",
    "    pass"
   ]
  },
  {
   "cell_type": "markdown",
   "metadata": {
    "id": "EsncmzORIqZQ"
   },
   "source": [
    "**1.2**"
   ]
  },
  {
   "cell_type": "code",
   "execution_count": 2,
   "metadata": {
    "id": "aYT_xlZ5b4Oo"
   },
   "outputs": [],
   "source": [
    "class LinearLayer(Layer):\n",
    "\n",
    "  def ForwardPropagation(self, input):\n",
    "    self.input = input\n",
    "    dot_p = np.dot(input, self.weights)\n",
    "    self.output = self.bias + dot_p\n",
    "    return self.output\n",
    "\n",
    "  def BackwardPropagation(self, l_err, l_r):\n",
    "    self.weights -= l_r * np.dot(self.input.T, l_err)\n",
    "    self.bias = self.bias -  l_r * l_err\n",
    "    return np.dot(l_err, self.weights.T)\n",
    "\n",
    "  def __init__(self, inpu, outp):\n",
    "    self.weights = np.array([[random.random() - 0.5 for i in range(outp)] for j in range(inpu)])\n",
    "    self.bias = np.array([random.random() - 0.5 for i in range(outp)])\n",
    "\n",
    "  def get_weights(self):\n",
    "    return self.weights"
   ]
  },
  {
   "cell_type": "markdown",
   "metadata": {
    "id": "70NzCzlytzGo"
   },
   "source": [
    "**1.3**"
   ]
  },
  {
   "cell_type": "code",
   "execution_count": 3,
   "metadata": {
    "id": "nAHg0AdGJpuA"
   },
   "outputs": [],
   "source": [
    "class Sigmoid(Layer):\n",
    "  def forward(self, x):\n",
    "    e = exp(-array(x))\n",
    "    e = 1 / (1 + e)\n",
    "    return np.array(e)\n",
    "\n",
    "  def back(self, x):\n",
    "    f = np.array(self.forward(x))\n",
    "    s = np.array(1 - self.forward(x))\n",
    "    return f * s\n",
    "\n",
    "  def ForwardPropagation(self, input):\n",
    "    self.input = input\n",
    "    return self.forward(input)\n",
    "\n",
    "  def BackwardPropagation(self, l_err, l_r):\n",
    "    return self.back(self.input) * l_err\n",
    "\n",
    "  def get_weights(self):\n",
    "    return []"
   ]
  },
  {
   "cell_type": "markdown",
   "metadata": {
    "id": "IPl86TqTuv-4"
   },
   "source": [
    "**1.4**"
   ]
  },
  {
   "cell_type": "code",
   "execution_count": 4,
   "metadata": {
    "id": "7Ps8ZSy2W3MO"
   },
   "outputs": [],
   "source": [
    "class Tanh(Layer):\n",
    "\n",
    "  def forward(self, x):\n",
    "    return np.tanh(x)\n",
    "\n",
    "  def backward(self, x):\n",
    "    return 1 - np.tanh(x)**2\n",
    "\n",
    "  def ForwardPropagation(self, input):\n",
    "    self.input = input\n",
    "    return self.forward(input)\n",
    "\n",
    "  def BackwardPropagation(self, l_err, l_r):\n",
    "    b = self.backward(self.input)\n",
    "    return b * l_err\n",
    "\n",
    "  def get_weights(self):\n",
    "    return []"
   ]
  },
  {
   "cell_type": "markdown",
   "metadata": {
    "id": "oEp3KK71uyIv"
   },
   "source": [
    "**1.5**"
   ]
  },
  {
   "cell_type": "code",
   "execution_count": 5,
   "metadata": {
    "id": "OQlM5rIlYhXk"
   },
   "outputs": [],
   "source": [
    "class Softmax(Layer):\n",
    "\n",
    "  def forward(self, x):\n",
    "    if isinstance(x, float):\n",
    "      return 1\n",
    "    else:\n",
    "      su = sum([math.exp(x[i]) for i in range(len(x))])\n",
    "      result = [math.exp(x[i])/su for i in range(len(x))]\n",
    "      return result\n",
    "\n",
    "  def ForwardPropagation(self, input):\n",
    "    self.input = input\n",
    "    return self.forward(input)\n",
    "\n",
    "  def BackwardPropagation(self, l_err, learning_rate):\n",
    "    su = sum([l_err[i] * self.forward(self.input[i]) for i in range(len(l_err))])\n",
    "    r = self.forward(self.input)\n",
    "    result = [-r[i] * (su - l_err[i]) for i in range(len(l_err))]\n",
    "    return result\n",
    "\n",
    "  def get_weights(self):\n",
    "    return []"
   ]
  },
  {
   "cell_type": "markdown",
   "metadata": {
    "id": "q6gD8ZQSxLPn"
   },
   "source": [
    "**1.6**"
   ]
  },
  {
   "cell_type": "code",
   "execution_count": 6,
   "metadata": {
    "id": "YrxZuMLlkYpD"
   },
   "outputs": [],
   "source": [
    "class Cross_Entropy(Layer):\n",
    "\n",
    "  def ForwardPropagation(self, pred, exist):\n",
    "    return -exist * np.log(abs(pred))\n",
    "\n",
    "  def BackwardPropagation(self, a, b):\n",
    "    return a - b"
   ]
  },
  {
   "cell_type": "markdown",
   "metadata": {
    "id": "kpOkHbDtx6dD"
   },
   "source": [
    "**1.7 and 1.8**"
   ]
  },
  {
   "cell_type": "code",
   "execution_count": 7,
   "metadata": {
    "id": "EnOzYVPGqoG5"
   },
   "outputs": [],
   "source": [
    "class Sequential(Layer):\n",
    "\n",
    "  def __init__(self):\n",
    "    self.sequential_layers = []\n",
    "    self.entropy = Cross_Entropy()\n",
    "    self.wei = []\n",
    "\n",
    "  def add(self, layers):\n",
    "    for i in layers:\n",
    "      self.sequential_layers.append(i)\n",
    "\n",
    "  def fit(self, input, output, repeat, l_r):\n",
    "    rt = []\n",
    "    count = 0\n",
    "    while count < repeat:\n",
    "      count += 1\n",
    "      f_loss = 0\n",
    "      inpuy = 0\n",
    "      while inpuy < len(input):\n",
    "        temp = input[inpuy]\n",
    "        for layu in self.sequential_layers:\n",
    "          temp = layu.ForwardPropagation(temp)\n",
    "        f_loss += self.entropy.ForwardPropagation(temp, output[inpuy])\n",
    "        error_layer = self.entropy.BackwardPropagation(temp,output[inpuy])\n",
    "        for lat in reversed(self.sequential_layers):\n",
    "          error_layer = lat.BackwardPropagation(error_layer, l_r)\n",
    "        inpuy += 1\n",
    "      rt.append(np.mean(f_loss))\n",
    "      if len(rt) >= 5:\n",
    "        if rt[-1] > rt[-2] > rt[-3] > rt[-4] > rt[-5]:\n",
    "          return rt\n",
    "    for i in reversed(self.sequential_layers):\n",
    "      self.wei.append(i.get_weights())\n",
    "    return rt\n",
    "\n",
    "  def valuation(self, input, output, repeat, l_r):\n",
    "    rt = []\n",
    "    count = 0\n",
    "    while count < repeat:\n",
    "      count += 1\n",
    "      f_loss = 0\n",
    "      inpuy = 0\n",
    "      while inpuy < len(input):\n",
    "        temp = input[inpuy]\n",
    "        for layu in self.sequential_layers:\n",
    "          temp = layu.ForwardPropagation(temp)\n",
    "        f_loss += self.entropy.ForwardPropagation(temp, output[inpuy])\n",
    "        error_layer = self.entropy.BackwardPropagation(temp,output[inpuy])\n",
    "        for lat in reversed(self.sequential_layers):\n",
    "          error_layer = lat.BackwardPropagation(error_layer, l_r)\n",
    "        inpuy += 1\n",
    "      rt.append(np.mean(f_loss))\n",
    "    return rt\n",
    "\n",
    "  def predict(self, input):\n",
    "    result = []\n",
    "    count = 0\n",
    "    while count < len(input):\n",
    "      inter = input[count]\n",
    "      for j in self.sequential_layers:\n",
    "        inter = j.ForwardPropagation(inter)\n",
    "      result.append(inter)\n",
    "      count += 1\n",
    "    return result\n",
    "\n",
    "  def save(self):\n",
    "    with open('result.txt', 'w') as fi:\n",
    "      for i in self.wei:\n",
    "          fi.write(str(i))\n",
    "\n",
    "  def load(self):\n",
    "    with open('result.txt', 'r') as fi:\n",
    "      loap = []\n",
    "      g = fi.readlines()\n",
    "      for i in g:\n",
    "        loap.append(i)\n",
    "      self.wei = loap"
   ]
  },
  {
   "cell_type": "markdown",
   "metadata": {
    "id": "vJFjG1qKRwCi"
   },
   "source": [
    "**2**"
   ]
  },
  {
   "cell_type": "code",
   "execution_count": 8,
   "metadata": {
    "colab": {
     "base_uri": "https://localhost:8080/"
    },
    "id": "3iua0saNRpsD",
    "outputId": "82f865ec-25fb-4d33-f112-ede0ec47f6eb"
   },
   "outputs": [
    {
     "name": "stdout",
     "output_type": "stream",
     "text": [
      "[array([[0.49994821]]), array([[0.49226354]]), array([[0.49304732]]), array([[0.48552989]])]\n"
     ]
    }
   ],
   "source": [
    "input = np.array([[[0,0]], [[0,1]], [[1,0]], [[1,1]]])\n",
    "output = np.array([[[0]], [[1]], [[1]], [[0]]])\n",
    "xor_tan = Sequential()\n",
    "xor_tan.add([LinearLayer(2,2), Sigmoid(), LinearLayer(2, 2), Sigmoid(), LinearLayer(2, 1)])\n",
    "w = xor_tan.fit(input, output, 100000, 0.1)\n",
    "XOR_Weights = xor_tan.save()\n",
    "print(xor_tan.predict(input))"
   ]
  },
  {
   "cell_type": "code",
   "execution_count": 9,
   "metadata": {
    "colab": {
     "base_uri": "https://localhost:8080/"
    },
    "id": "eyOiDY_Md89S",
    "outputId": "10bc2ba8-c70e-45ee-9af4-1fdbda33313f"
   },
   "outputs": [
    {
     "name": "stdout",
     "output_type": "stream",
     "text": [
      "[array([[0.50272331]]), array([[0.49521801]]), array([[0.49505786]]), array([[0.48818326]])]\n"
     ]
    }
   ],
   "source": [
    "input = np.array([[[0,0]], [[0,1]], [[1,0]], [[1,1]]])\n",
    "output = np.array([[[0]], [[1]], [[1]], [[0]]])\n",
    "xor_sig = Sequential()\n",
    "xor_sig.add([LinearLayer(2,2), Tanh(), LinearLayer(2, 2), Tanh(), LinearLayer(2, 1)])\n",
    "w = xor_sig.fit(input, output, 100000, 0.1)\n",
    "print(xor_sig.predict(input))"
   ]
  },
  {
   "cell_type": "markdown",
   "metadata": {
    "id": "I1m6lqctuCuM"
   },
   "source": [
    "**3.1**"
   ]
  },
  {
   "cell_type": "code",
   "execution_count": 10,
   "metadata": {
    "colab": {
     "base_uri": "https://localhost:8080/",
     "height": 901
    },
    "id": "t-ucRkbc7asU",
    "outputId": "f4714f2b-ddaa-4486-c33c-44750eeb4aac"
   },
   "outputs": [
    {
     "name": "stdout",
     "output_type": "stream",
     "text": [
      "10.09\n"
     ]
    },
    {
     "data": {
      "image/png": "[encoded data removed]",
      "text/plain": [
       "<Figure size 640x480 with 1 Axes>"
      ]
     },
     "metadata": {},
     "output_type": "display_data"
    },
    {
     "data": {
      "image/png": "[encoded data removed]",
      "text/plain": [
       "<Figure size 640x480 with 1 Axes>"
      ]
     },
     "metadata": {},
     "output_type": "display_data"
    }
   ],
   "source": [
    "(i_train, o_train), (i_test, o_test) = mnist.load_data()\n",
    "i_train = (i_train.reshape(i_train.shape[0], 1, 784).astype('float32'))\n",
    "i_train = i_train/ 255\n",
    "o_train = to_categorical(o_train)\n",
    "i_test = (i_test.reshape(i_test.shape[0], 1, 784).astype('float32'))\n",
    "i_test = i_test/ 255\n",
    "o_test = to_categorical(o_test)\n",
    "f_train = []\n",
    "f_test = []\n",
    "g_train = []\n",
    "g_test = []\n",
    "iterati = 5\n",
    "count = 0\n",
    "while count < 60000:\n",
    "  ran = random.random()\n",
    "  if ran < 0.2:\n",
    "    g_train.append(i_train[count])\n",
    "    g_test.append(o_train[count])\n",
    "  else:\n",
    "    f_train.append(i_train[count])\n",
    "    f_test.append(o_train[count])\n",
    "  count += 1\n",
    "model = Sequential()\n",
    "model.add([LinearLayer(784,256),Tanh(), LinearLayer(256,128), Sigmoid(), LinearLayer(128,64), Sigmoid(), LinearLayer(64,32), Sigmoid(),LinearLayer(32,16), Sigmoid(), LinearLayer(16,10), Tanh()])\n",
    "loss = model.fit(f_train, f_test, iterati, 0.15)\n",
    "loss1 = model.valuation(g_train, g_test, iterati, 0.15)\n",
    "ans = model.predict(i_test)\n",
    "count = 0\n",
    "count1 = 0\n",
    "while count < 10000:\n",
    "  m = max(list(ans[count][0]))\n",
    "  ink = list(ans[count][0]).index(m)\n",
    "  lot = list(o_test[count]).index(1)\n",
    "  if ink == lot: count1 += 1\n",
    "  count += 1\n",
    "print(count1/len(ans) * 100)\n",
    "y_lab = [i for i in range(iterati)]\n",
    "plt.plot(y_lab, loss)\n",
    "plt.xlabel('iter')\n",
    "plt.ylabel('train loss')\n",
    "plt.show()\n",
    "plt.plot(y_lab, loss1)\n",
    "plt.xlabel('iter')\n",
    "plt.ylabel('Val loss')\n",
    "plt.show()"
   ]
  },
  {
   "cell_type": "markdown",
   "metadata": {
    "id": "egoHbHKhXsTS"
   },
   "source": [
    "**3.2**"
   ]
  },
  {
   "cell_type": "code",
   "execution_count": 11,
   "metadata": {
    "id": "Rqo58ToE92mR"
   },
   "outputs": [
    {
     "name": "stdout",
     "output_type": "stream",
     "text": [
      "9.74\n"
     ]
    },
    {
     "data": {
      "image/png": "[encoded data removed]",
      "text/plain": [
       "<Figure size 640x480 with 1 Axes>"
      ]
     },
     "metadata": {},
     "output_type": "display_data"
    },
    {
     "data": {
      "image/png": "[encoded data removed]",
      "text/plain": [
       "<Figure size 640x480 with 1 Axes>"
      ]
     },
     "metadata": {},
     "output_type": "display_data"
    }
   ],
   "source": [
    "(i_train, o_train), (i_test, o_test) = mnist.load_data()\n",
    "i_train = (i_train.reshape(i_train.shape[0], 1, 784).astype('float32'))\n",
    "i_train = i_train/ 255\n",
    "o_train = to_categorical(o_train)\n",
    "i_test = (i_test.reshape(i_test.shape[0], 1, 784).astype('float32'))\n",
    "i_test = i_test/ 255\n",
    "o_test = to_categorical(o_test)\n",
    "f_train = []\n",
    "f_test = []\n",
    "g_train = []\n",
    "g_test = []\n",
    "iterati = 5\n",
    "count = 0\n",
    "while count < 60000:\n",
    "  ran = random.random()\n",
    "  if ran < 0.2:\n",
    "    g_train.append(i_train[count])\n",
    "    g_test.append(o_train[count])\n",
    "  else:\n",
    "    f_train.append(i_train[count])\n",
    "    f_test.append(o_train[count])\n",
    "  count += 1\n",
    "model = Sequential()\n",
    "model.add([LinearLayer(784,256),Tanh(), LinearLayer(256,128), Sigmoid(), LinearLayer(128,64), Sigmoid(), LinearLayer(64,32), Sigmoid(),LinearLayer(32,16), Sigmoid(), LinearLayer(16,10), Tanh()])\n",
    "loss = model.fit(f_train, f_test, iterati, 0.15)\n",
    "loss1 = model.valuation(g_train, g_test, iterati, 0.15)\n",
    "ans = model.predict(i_test)\n",
    "count = 0\n",
    "count1 = 0\n",
    "while count < 10000:\n",
    "  m = max(list(ans[count][0]))\n",
    "  ink = list(ans[count][0]).index(m)\n",
    "  lot = list(o_test[count]).index(1)\n",
    "  if ink == lot: count1 += 1\n",
    "  count += 1\n",
    "print(count1/len(ans) * 100)\n",
    "y_lab = [i for i in range(iterati)]\n",
    "plt.plot(y_lab, loss)\n",
    "plt.xlabel('iter')\n",
    "plt.ylabel('train loss')\n",
    "plt.show()\n",
    "plt.plot(y_lab, loss1)\n",
    "plt.xlabel('iter')\n",
    "plt.ylabel('Val loss')\n",
    "plt.show()"
   ]
  },
  {
   "cell_type": "markdown",
   "metadata": {
    "id": "KH_WYvbAXyAK"
   },
   "source": [
    "**3.3**"
   ]
  },
  {
   "cell_type": "code",
   "execution_count": null,
   "metadata": {
    "id": "hvRRnk49X1uX"
   },
   "outputs": [],
   "source": [
    "(i_train, o_train), (i_test, o_test) = mnist.load_data()\n",
    "i_train = (i_train.reshape(i_train.shape[0], 1, 784).astype('float32'))\n",
    "i_train = i_train/ 255\n",
    "o_train = to_categorical(o_train)\n",
    "i_test = (i_test.reshape(i_test.shape[0], 1, 784).astype('float32'))\n",
    "i_test = i_test/ 255\n",
    "o_test =to_categorical(o_test)\n",
    "f_train = []\n",
    "f_test = []\n",
    "g_train = []\n",
    "g_test = []\n",
    "iterati = 5\n",
    "count = 0\n",
    "while count < 60000:\n",
    "  ran = random.random()\n",
    "  if ran < 0.2:\n",
    "    g_train.append(i_train[count])\n",
    "    g_test.append(o_train[count])\n",
    "  else:\n",
    "    f_train.append(i_train[count])\n",
    "    f_test.append(o_train[count])\n",
    "  count += 1\n",
    "model = Sequential()\n",
    "model.add([LinearLayer(784,256),Sigmoid(), LinearLayer(256,128), Sigmoid(), LinearLayer(128,64), Sigmoid(), LinearLayer(64,32), Sigmoid(),LinearLayer(32,16), Sigmoid(), LinearLayer(16,10), Sigmoid()])\n",
    "loss = model.fit(f_train, f_test, iterati, 0.15)\n",
    "loss1 = model.valuation(g_train, g_test, iterati, 0.15)\n",
    "ans = model.predict(i_test)\n",
    "count = 0\n",
    "count1 = 0\n",
    "while count < 10000:\n",
    "  m = max(list(ans[count][0]))\n",
    "  ink = list(ans[count][0]).index(m)\n",
    "  lot = list(o_test[count]).index(1)\n",
    "  if ink == lot: count1 += 1\n",
    "  count += 1\n",
    "print(count1/len(ans) * 100)\n",
    "y_lab = [i for i in range(iterati)]\n",
    "plt.plot(y_lab, loss)\n",
    "plt.xlabel('iter')\n",
    "plt.ylabel('train loss')\n",
    "plt.show()\n",
    "plt.plot(y_lab, loss1)\n",
    "plt.xlabel('iter')\n",
    "plt.ylabel('Val loss')\n",
    "plt.show()"
   ]
  },
  {
   "cell_type": "markdown",
   "metadata": {
    "id": "n52ahargtMNM"
   },
   "source": [
    "Learning Rate = 1"
   ]
  },
  {
   "cell_type": "code",
   "execution_count": null,
   "metadata": {
    "id": "LoI3zYWeqsc-"
   },
   "outputs": [],
   "source": [
    "(i_train, o_train), (i_test, o_test) = mnist.load_data()\n",
    "i_train = (i_train.reshape(i_train.shape[0], 1, 784).astype('float32'))\n",
    "i_train = i_train/ 255\n",
    "o_train = to_categorical(o_train)\n",
    "i_test = (i_test.reshape(i_test.shape[0], 1, 784).astype('float32'))\n",
    "i_test = i_test/ 255\n",
    "o_test =to_categorical(o_test)\n",
    "f_train = []\n",
    "f_test = []\n",
    "g_train = []\n",
    "g_test = []\n",
    "iterati = 5\n",
    "count = 0\n",
    "while count < 60000:\n",
    "  ran = random.random()\n",
    "  if ran < 0.2:\n",
    "    g_train.append(i_train[count])\n",
    "    g_test.append(o_train[count])\n",
    "  else:\n",
    "    f_train.append(i_train[count])\n",
    "    f_test.append(o_train[count])\n",
    "  count += 1\n",
    "model = Sequential()\n",
    "model.add([LinearLayer(784,256),Sigmoid(), LinearLayer(256,128), Sigmoid(), LinearLayer(128,64), Sigmoid(), LinearLayer(64,32), Sigmoid(),LinearLayer(32,16), Sigmoid(), LinearLayer(16,10), Sigmoid()])\n",
    "loss = model.fit(f_train, f_test, iterati, 1)\n",
    "loss1 = model.valuation(g_train, g_test, iterati, 1)\n",
    "ans = model.predict(i_test)\n",
    "count = 0\n",
    "count1 = 0\n",
    "while count < 10000:\n",
    "  m = max(list(ans[count][0]))\n",
    "  ink = list(ans[count][0]).index(m)\n",
    "  lot = list(o_test[count]).index(1)\n",
    "  if ink == lot: count1 += 1\n",
    "  count += 1\n",
    "print(count1/len(ans) * 100)\n",
    "y_lab = [i for i in range(iterati)]\n",
    "plt.plot(y_lab, loss)\n",
    "plt.xlabel('iter')\n",
    "plt.ylabel('train loss')\n",
    "plt.show()\n",
    "plt.plot(y_lab, loss1)\n",
    "plt.xlabel('iter')\n",
    "plt.ylabel('Val loss')\n",
    "plt.show()"
   ]
  },
  {
   "cell_type": "markdown",
   "metadata": {
    "id": "Mi8hbE9xubUM"
   },
   "source": [
    "Learning Rate = 0.001"
   ]
  },
  {
   "cell_type": "code",
   "execution_count": null,
   "metadata": {
    "id": "8TF-A8meudgk"
   },
   "outputs": [],
   "source": [
    "(i_train, o_train), (i_test, o_test) = mnist.load_data()\n",
    "i_train = (i_train.reshape(i_train.shape[0], 1, 784).astype('float32'))\n",
    "i_train = i_train/ 255\n",
    "o_train = to_categorical(o_train)\n",
    "i_test = (i_test.reshape(i_test.shape[0], 1, 784).astype('float32'))\n",
    "i_test = i_test/ 255\n",
    "o_test = to_categorical(o_test)\n",
    "f_train = []\n",
    "f_test = []\n",
    "g_train = []\n",
    "g_test = []\n",
    "iterati = 5\n",
    "count = 0\n",
    "while count < 60000:\n",
    "  ran = random.random()\n",
    "  if ran < 0.2:\n",
    "    g_train.append(i_train[count])\n",
    "    g_test.append(o_train[count])\n",
    "  else:\n",
    "    f_train.append(i_train[count])\n",
    "    f_test.append(o_train[count])\n",
    "  count += 1\n",
    "model = Sequential()\n",
    "model.add([LinearLayer(784,256),Sigmoid(), LinearLayer(256,128), Sigmoid(), LinearLayer(128,64), Sigmoid(), LinearLayer(64,32), Sigmoid(),LinearLayer(32,10), Sigmoid()])\n",
    "loss = model.fit(f_train, f_test, iterati, 0.001)\n",
    "loss1 = model.valuation(g_train, g_test, iterati, 0.001)\n",
    "ans = model.predict(i_test)\n",
    "count = 0\n",
    "count1 = 0\n",
    "while count < 10000:\n",
    "  m = max(list(ans[count][0]))\n",
    "  ink = list(ans[count][0]).index(m)\n",
    "  lot = list(o_test[count]).index(1)\n",
    "  if ink == lot: count1 += 1\n",
    "  count += 1\n",
    "print(count/len(ans) * 100)\n",
    "y_lab = [i for i in range(iterati)]\n",
    "plt.plot(y_lab, loss)\n",
    "plt.xlabel('iter')\n",
    "plt.ylabel('train loss')\n",
    "plt.show()\n",
    "plt.plot(y_lab, loss1)\n",
    "plt.xlabel('iter')\n",
    "plt.ylabel('Val loss')\n",
    "plt.show()"
   ]
  },
  {
   "cell_type": "markdown",
   "metadata": {
    "id": "9xuL9b4AviiH"
   },
   "source": [
    "Random weights"
   ]
  },
  {
   "cell_type": "code",
   "execution_count": null,
   "metadata": {
    "id": "1eW4Imefvj_G"
   },
   "outputs": [],
   "source": [
    "class Random_LinearLayer(Layer):\n",
    "\n",
    "  def ForwardPropagation(self, input):\n",
    "    self.input = input\n",
    "    dot_p = np.dot(input, self.weights)\n",
    "    self.output = self.bias + dot_p\n",
    "    return self.output\n",
    "\n",
    "  def BackwardPropagation(self, l_err, l_r):\n",
    "    self.weights -= l_r * np.dot(self.input.T, l_err)\n",
    "    self.bias = self.bias -  l_r * l_err\n",
    "    return np.dot(l_err, self.weights.T)\n",
    "\n",
    "  def __init__(self, inpu, outp,s,e):\n",
    "    self.weights = np.array([[random.randint(s,e) - 0.5 for i in range(outp)] for j in range(inpu)])\n",
    "    self.bias = np.array([random.randint(s,e) - 0.5 for i in range(outp)])\n",
    "\n",
    "  def get_weights(self):\n",
    "    return self.weights"
   ]
  },
  {
   "cell_type": "markdown",
   "metadata": {
    "id": "r71CEaI8vbgd"
   },
   "source": [
    "-10 to 10"
   ]
  },
  {
   "cell_type": "code",
   "execution_count": null,
   "metadata": {
    "id": "rpti9aABvdCk"
   },
   "outputs": [],
   "source": [
    "(i_train, o_train), (i_test, o_test) = mnist.load_data()\n",
    "i_train = (i_train.reshape(i_train.shape[0], 1, 784).astype('float32'))\n",
    "i_train = i_train/ 255\n",
    "o_train = to_categorical(o_train)\n",
    "i_test = (i_test.reshape(i_test.shape[0], 1, 784).astype('float32'))\n",
    "i_test = i_test/ 255\n",
    "o_test = to_categorical(o_test)\n",
    "f_train = []\n",
    "f_test = []\n",
    "g_train = []\n",
    "g_test = []\n",
    "iterati = 5\n",
    "count = 0\n",
    "while count < 60000:\n",
    "  ran = random.random()\n",
    "  if ran < 0.2:\n",
    "    g_train.append(i_train[count])\n",
    "    g_test.append(o_train[count])\n",
    "  else:\n",
    "    f_train.append(i_train[count])\n",
    "    f_test.append(o_train[count])\n",
    "  count += 1\n",
    "model = Sequential()\n",
    "model.add([Random_LinearLayer(784,256,-10,10),Sigmoid(), LinearLayer(256,128), Sigmoid(), LinearLayer(128,64), Sigmoid(), LinearLayer(64,32), Sigmoid(),LinearLayer(32,16), Sigmoid(), LinearLayer(16,10), Sigmoid()])\n",
    "loss = model.fit(f_train, f_test, iterati, 0.15)\n",
    "loss1 = model.valuation(g_train, g_test, iterati, 0.15)\n",
    "ans = model.predict(i_test)\n",
    "count = 0\n",
    "count1 = 0\n",
    "while count < 10000:\n",
    "  m = max(list(ans[count][0]))\n",
    "  ink = list(ans[count][0]).index(m)\n",
    "  lot = list(o_test[count]).index(1)\n",
    "  if ink == lot: count1 += 1\n",
    "  count += 1\n",
    "print(count1/len(ans) * 100)\n",
    "y_lab = [i for i in range(iterati)]\n",
    "plt.plot(y_lab, loss)\n",
    "plt.xlabel('iter')\n",
    "plt.ylabel('train loss')\n",
    "plt.show()\n",
    "plt.plot(y_lab, loss1)\n",
    "plt.xlabel('iter')\n",
    "plt.ylabel('Val loss')\n",
    "plt.show()"
   ]
  },
  {
   "cell_type": "markdown",
   "metadata": {
    "id": "ucaIQXCnvdtj"
   },
   "source": [
    "All zeros"
   ]
  },
  {
   "cell_type": "code",
   "execution_count": null,
   "metadata": {
    "id": "eyGRl0L7vfhn"
   },
   "outputs": [],
   "source": [
    "(i_train, o_train), (i_test, o_test) = mnist.load_data()\n",
    "i_train = (i_train.reshape(i_train.shape[0], 1, 784).astype('float32'))\n",
    "i_train = i_train/ 255\n",
    "o_train = to_categorical(o_train)\n",
    "i_test = (i_test.reshape(i_test.shape[0], 1, 784).astype('float32'))\n",
    "i_test = i_test/ 255\n",
    "o_test = to_categorical(o_test)\n",
    "f_train = []\n",
    "f_test = []\n",
    "g_train = []\n",
    "g_test = []\n",
    "iterati = 5\n",
    "count = 0\n",
    "while count < 60000:\n",
    "  ran = random.random()\n",
    "  if ran < 0.2:\n",
    "    g_train.append(i_train[count])\n",
    "    g_test.append(o_train[count])\n",
    "  else:\n",
    "    f_train.append(i_train[count])\n",
    "    f_test.append(o_train[count])\n",
    "  count += 1\n",
    "model = Sequential()\n",
    "model.add([Random_LinearLayer(784,256,0,0),Sigmoid(), LinearLayer(256,128), Sigmoid(), LinearLayer(128,64), Sigmoid(), LinearLayer(64,32), Sigmoid(),LinearLayer(32,16), Sigmoid(), LinearLayer(16,10), Sigmoid()])\n",
    "loss = model.fit(f_train, f_test, iterati, 0.15)\n",
    "loss1 = model.valuation(g_train, g_test, iterati, 0.15)\n",
    "ans = model.predict(i_test)\n",
    "count = 0\n",
    "count1 = 0\n",
    "while count < 10000:\n",
    "  m = max(list(ans[count][0]))\n",
    "  ink = list(ans[count][0]).index(m)\n",
    "  lot = list(o_test[count]).index(1)\n",
    "  if ink == lot: count1 += 1\n",
    "  count += 1\n",
    "print(count1/len(ans) * 100)\n",
    "y_lab = [i for i in range(iterati)]\n",
    "plt.plot(y_lab, loss)\n",
    "plt.xlabel('iter')\n",
    "plt.ylabel('train loss')\n",
    "plt.show()\n",
    "plt.plot(y_lab, loss1)\n",
    "plt.xlabel('iter')\n",
    "plt.ylabel('Val loss')\n",
    "plt.show()"
   ]
  },
  {
   "cell_type": "code",
   "execution_count": null,
   "metadata": {
    "id": "dG4CmZbTIh2N"
   },
   "outputs": [],
   "source": [
    "# Imports\n",
    "import pandas as pd\n",
    "import matplotlib.pyplot as plt\n",
    "\n",
    "from sklearn.model_selection import train_test_split\n",
    "from sklearn.metrics import accuracy_score\n",
    "\n",
    "from neuralnetwork import Layer, Sequential, Linear, Sigmoid\n",
    "\n",
    "# Load data\n",
    "df_train = pd.read_csv('train.csv')\n",
    "df_test = pd.read_csv('test.csv')\n",
    "\n",
    "# Split train 95%/5% for train/valid\n",
    "df_train, df_valid = train_test_split(df_train, test_size=0.05, random_state=42)\n",
    "\n",
    "# Extract target\n",
    "y_train = df_train['trip_duration'].to_numpy()\n",
    "y_valid = df_valid['trip_duration'].to_numpy()\n",
    "\n",
    "# Feature engineering\n",
    "features = ['pickup_datetime', 'pickup_lat', 'pickup_lon', 'passenger_count']\n",
    "X_train = df_train[features].to_numpy()\n",
    "X_valid = df_valid[features].to_numpy()\n",
    "\n",
    "# Standard scaling\n",
    "from sklearn.preprocessing import StandardScaler\n",
    "scaler = StandardScaler()\n",
    "X_train = scaler.fit_transform(X_train)\n",
    "X_valid = scaler.transform(X_valid)\n",
    "\n",
    "# Model selection\n",
    "models = {}\n",
    "for n_layers, n_nodes in [(2,32), (3,64), (4,128)]:\n",
    "\n",
    "  # Define model\n",
    "  model = Sequential()\n",
    "  model.add(Linear(n_features, n_nodes))\n",
    "  model.add(Sigmoid())\n",
    "\n",
    "  # Train\n",
    "  epochs = 100\n",
    "  train_losses = []\n",
    "  valid_losses = []\n",
    "\n",
    "  for epoch in range(epochs):\n",
    "    y_pred = model.forward(X_train)\n",
    "    loss = model.compute_loss(y_pred, y_train)\n",
    "\n",
    "    y_valid_pred = model.predict(X_valid)\n",
    "    valid_loss = model.compute_loss(y_valid_pred, y_valid)\n",
    "\n",
    "    train_losses.append(loss)\n",
    "    valid_losses.append(valid_loss)\n",
    "\n",
    "  # Plot losses\n",
    "  plt.plot(train_losses)\n",
    "  plt.plot(valid_losses)\n",
    "  plt.title(f'{n_layers} layers, {n_nodes} nodes')\n",
    "  plt.legend(['Train', 'Valid'])\n",
    "  plt.xlabel('Epoch')\n",
    "\n",
    "  # Save\n",
    "  models[(n_layers, n_nodes)] = {\n",
    "    'model': model,\n",
    "    'train_losses': train_losses,\n",
    "    'valid_losses': valid_losses\n",
    "  }\n",
    "\n",
    "# Evaluation\n",
    "X_test = scaler.transform(df_test[features].to_numpy())\n",
    "for k, v in models.items():\n",
    "  y_pred = v['model'].predict(X_test)\n",
    "  acc = accuracy_score(y_test, y_pred)\n",
    "  print(f'{k} test accuracy: {acc}')"
   ]
  }
 ],
 "metadata": {
  "colab": {
   "provenance": []
  },
  "kernelspec": {
   "display_name": "Python 3 (ipykernel)",
   "language": "python",
   "name": "python3"
  },
  "language_info": {
   "codemirror_mode": {
    "name": "ipython",
    "version": 3
   },
   "file_extension": ".py",
   "mimetype": "text/x-python",
   "name": "python",
   "nbconvert_exporter": "python",
   "pygments_lexer": "ipython3",
   "version": "3.11.5"
  }
 },
 "nbformat": 4,
 "nbformat_minor": 1
}
